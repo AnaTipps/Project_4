{
 "cells": [
  {
   "cell_type": "code",
   "execution_count": 59,
   "id": "a50ccfc0",
   "metadata": {},
   "outputs": [],
   "source": [
    "# Import Dependencies\n",
    "\n",
    "import numpy as np\n",
    "import pandas as pd\n",
    "from pathlib import Path\n",
    "import seaborn as sns\n",
    "import matplotlib.pyplot as plt\n",
    "import plotly.graph_objs as go\n",
    "\n",
    "from sklearn.metrics import confusion_matrix, balanced_accuracy_score, confusion_matrix, classification_report, accuracy_score\n",
    "from sklearn.linear_model import LogisticRegression\n",
    "from sklearn.mogit del_selection import train_test_split, GridSearchCV\n",
    "from sklearn.tree import DecisionTreeClassifier\n",
    "from sklearn.ensemble import RandomForestClassifier\n",
    "from sklearn.preprocessing import StandardScaler\n",
    "from sklearn.svm import SVC\n",
    "\n",
    "from tensorflow.keras.models import Sequential\n",
    "from tensorflow.keras.layers import Dense\n",
    "import warnings\n",
    "warnings.filterwarnings('ignore')"
   ]
  },
  {
   "cell_type": "code",
   "execution_count": 60,
   "id": "7b3cdbae",
   "metadata": {},
   "outputs": [],
   "source": [
    "# Define Functions\n",
    "\n",
    "def evaluate_model(test, pred, model_name):\n",
    "    \n",
    "    # Calculate accuracy score\n",
    "    accuracy = accuracy_score(test, pred)\n",
    "    print(f\"{model_name} Accuracy: {round(accuracy*100,2)}%\\n\\n\")\n",
    "\n",
    "    # Generate a confusion matrix\n",
    "    conf_matrix = confusion_matrix(test, pred)\n",
    "    print(f\"{model_name} Confusion Matrix:\\n\\n{conf_matrix}\\n\\n\")\n",
    "\n",
    "    # Generate a classification report\n",
    "    classification = classification_report(test, pred, output_dict=True)\n",
    "    recall = classification['macro avg']['recall']\n",
    "    f1 = classification['macro avg']['f1-score']\n",
    "    prec = classification['macro avg']['precision']\n",
    "\n",
    "\n",
    "    print(f\"{model_name} Classification Report:\\n\\n{classification_report(test, pred)}\\n\\n\")\n",
    "\n",
    "    # Plot the confusion matrix as a heatmap\n",
    "    sns.heatmap(conf_matrix, annot=True, cmap='Blues', fmt='g')\n",
    "    plt.xlabel('Predicted label')\n",
    "    plt.ylabel('True label')\n",
    "    plt.title(f\"{model_name} Confusion Matrix\")\n",
    "    plt.show()\n",
    "\n",
    "    return prec, accuracy, recall, f1\n"
   ]
  },
  {
   "cell_type": "markdown",
   "id": "d8bd7a41",
   "metadata": {},
   "source": [
    "## Data Preparation (Cleaning and Pre-Processing)"
   ]
  },
  {
   "cell_type": "code",
   "execution_count": 61,
   "id": "74d5ec10",
   "metadata": {},
   "outputs": [
    {
     "data": {
      "text/html": [
       "<div>\n",
       "<style scoped>\n",
       "    .dataframe tbody tr th:only-of-type {\n",
       "        vertical-align: middle;\n",
       "    }\n",
       "\n",
       "    .dataframe tbody tr th {\n",
       "        vertical-align: top;\n",
       "    }\n",
       "\n",
       "    .dataframe thead th {\n",
       "        text-align: right;\n",
       "    }\n",
       "</style>\n",
       "<table border=\"1\" class=\"dataframe\">\n",
       "  <thead>\n",
       "    <tr style=\"text-align: right;\">\n",
       "      <th></th>\n",
       "      <th>id</th>\n",
       "      <th>diagnosis</th>\n",
       "      <th>radius_mean</th>\n",
       "      <th>texture_mean</th>\n",
       "      <th>perimeter_mean</th>\n",
       "      <th>area_mean</th>\n",
       "      <th>smoothness_mean</th>\n",
       "      <th>compactness_mean</th>\n",
       "      <th>concavity_mean</th>\n",
       "      <th>concave points_mean</th>\n",
       "      <th>...</th>\n",
       "      <th>radius_worst</th>\n",
       "      <th>texture_worst</th>\n",
       "      <th>perimeter_worst</th>\n",
       "      <th>area_worst</th>\n",
       "      <th>smoothness_worst</th>\n",
       "      <th>compactness_worst</th>\n",
       "      <th>concavity_worst</th>\n",
       "      <th>concave points_worst</th>\n",
       "      <th>symmetry_worst</th>\n",
       "      <th>fractal_dimension_worst</th>\n",
       "    </tr>\n",
       "  </thead>\n",
       "  <tbody>\n",
       "    <tr>\n",
       "      <th>0</th>\n",
       "      <td>842302</td>\n",
       "      <td>M</td>\n",
       "      <td>17.99</td>\n",
       "      <td>10.38</td>\n",
       "      <td>122.80</td>\n",
       "      <td>1001.0</td>\n",
       "      <td>0.11840</td>\n",
       "      <td>0.27760</td>\n",
       "      <td>0.3001</td>\n",
       "      <td>0.14710</td>\n",
       "      <td>...</td>\n",
       "      <td>25.38</td>\n",
       "      <td>17.33</td>\n",
       "      <td>184.60</td>\n",
       "      <td>2019.0</td>\n",
       "      <td>0.1622</td>\n",
       "      <td>0.6656</td>\n",
       "      <td>0.7119</td>\n",
       "      <td>0.2654</td>\n",
       "      <td>0.4601</td>\n",
       "      <td>0.11890</td>\n",
       "    </tr>\n",
       "    <tr>\n",
       "      <th>1</th>\n",
       "      <td>842517</td>\n",
       "      <td>M</td>\n",
       "      <td>20.57</td>\n",
       "      <td>17.77</td>\n",
       "      <td>132.90</td>\n",
       "      <td>1326.0</td>\n",
       "      <td>0.08474</td>\n",
       "      <td>0.07864</td>\n",
       "      <td>0.0869</td>\n",
       "      <td>0.07017</td>\n",
       "      <td>...</td>\n",
       "      <td>24.99</td>\n",
       "      <td>23.41</td>\n",
       "      <td>158.80</td>\n",
       "      <td>1956.0</td>\n",
       "      <td>0.1238</td>\n",
       "      <td>0.1866</td>\n",
       "      <td>0.2416</td>\n",
       "      <td>0.1860</td>\n",
       "      <td>0.2750</td>\n",
       "      <td>0.08902</td>\n",
       "    </tr>\n",
       "    <tr>\n",
       "      <th>2</th>\n",
       "      <td>84300903</td>\n",
       "      <td>M</td>\n",
       "      <td>19.69</td>\n",
       "      <td>21.25</td>\n",
       "      <td>130.00</td>\n",
       "      <td>1203.0</td>\n",
       "      <td>0.10960</td>\n",
       "      <td>0.15990</td>\n",
       "      <td>0.1974</td>\n",
       "      <td>0.12790</td>\n",
       "      <td>...</td>\n",
       "      <td>23.57</td>\n",
       "      <td>25.53</td>\n",
       "      <td>152.50</td>\n",
       "      <td>1709.0</td>\n",
       "      <td>0.1444</td>\n",
       "      <td>0.4245</td>\n",
       "      <td>0.4504</td>\n",
       "      <td>0.2430</td>\n",
       "      <td>0.3613</td>\n",
       "      <td>0.08758</td>\n",
       "    </tr>\n",
       "    <tr>\n",
       "      <th>3</th>\n",
       "      <td>84348301</td>\n",
       "      <td>M</td>\n",
       "      <td>11.42</td>\n",
       "      <td>20.38</td>\n",
       "      <td>77.58</td>\n",
       "      <td>386.1</td>\n",
       "      <td>0.14250</td>\n",
       "      <td>0.28390</td>\n",
       "      <td>0.2414</td>\n",
       "      <td>0.10520</td>\n",
       "      <td>...</td>\n",
       "      <td>14.91</td>\n",
       "      <td>26.50</td>\n",
       "      <td>98.87</td>\n",
       "      <td>567.7</td>\n",
       "      <td>0.2098</td>\n",
       "      <td>0.8663</td>\n",
       "      <td>0.6869</td>\n",
       "      <td>0.2575</td>\n",
       "      <td>0.6638</td>\n",
       "      <td>0.17300</td>\n",
       "    </tr>\n",
       "    <tr>\n",
       "      <th>4</th>\n",
       "      <td>84358402</td>\n",
       "      <td>M</td>\n",
       "      <td>20.29</td>\n",
       "      <td>14.34</td>\n",
       "      <td>135.10</td>\n",
       "      <td>1297.0</td>\n",
       "      <td>0.10030</td>\n",
       "      <td>0.13280</td>\n",
       "      <td>0.1980</td>\n",
       "      <td>0.10430</td>\n",
       "      <td>...</td>\n",
       "      <td>22.54</td>\n",
       "      <td>16.67</td>\n",
       "      <td>152.20</td>\n",
       "      <td>1575.0</td>\n",
       "      <td>0.1374</td>\n",
       "      <td>0.2050</td>\n",
       "      <td>0.4000</td>\n",
       "      <td>0.1625</td>\n",
       "      <td>0.2364</td>\n",
       "      <td>0.07678</td>\n",
       "    </tr>\n",
       "  </tbody>\n",
       "</table>\n",
       "<p>5 rows × 32 columns</p>\n",
       "</div>"
      ],
      "text/plain": [
       "         id diagnosis  radius_mean  texture_mean  perimeter_mean  area_mean  \\\n",
       "0    842302         M        17.99         10.38          122.80     1001.0   \n",
       "1    842517         M        20.57         17.77          132.90     1326.0   \n",
       "2  84300903         M        19.69         21.25          130.00     1203.0   \n",
       "3  84348301         M        11.42         20.38           77.58      386.1   \n",
       "4  84358402         M        20.29         14.34          135.10     1297.0   \n",
       "\n",
       "   smoothness_mean  compactness_mean  concavity_mean  concave points_mean  \\\n",
       "0          0.11840           0.27760          0.3001              0.14710   \n",
       "1          0.08474           0.07864          0.0869              0.07017   \n",
       "2          0.10960           0.15990          0.1974              0.12790   \n",
       "3          0.14250           0.28390          0.2414              0.10520   \n",
       "4          0.10030           0.13280          0.1980              0.10430   \n",
       "\n",
       "   ...  radius_worst  texture_worst  perimeter_worst  area_worst  \\\n",
       "0  ...         25.38          17.33           184.60      2019.0   \n",
       "1  ...         24.99          23.41           158.80      1956.0   \n",
       "2  ...         23.57          25.53           152.50      1709.0   \n",
       "3  ...         14.91          26.50            98.87       567.7   \n",
       "4  ...         22.54          16.67           152.20      1575.0   \n",
       "\n",
       "   smoothness_worst  compactness_worst  concavity_worst  concave points_worst  \\\n",
       "0            0.1622             0.6656           0.7119                0.2654   \n",
       "1            0.1238             0.1866           0.2416                0.1860   \n",
       "2            0.1444             0.4245           0.4504                0.2430   \n",
       "3            0.2098             0.8663           0.6869                0.2575   \n",
       "4            0.1374             0.2050           0.4000                0.1625   \n",
       "\n",
       "   symmetry_worst  fractal_dimension_worst  \n",
       "0          0.4601                  0.11890  \n",
       "1          0.2750                  0.08902  \n",
       "2          0.3613                  0.08758  \n",
       "3          0.6638                  0.17300  \n",
       "4          0.2364                  0.07678  \n",
       "\n",
       "[5 rows x 32 columns]"
      ]
     },
     "execution_count": 61,
     "metadata": {},
     "output_type": "execute_result"
    }
   ],
   "source": [
    "# Read in the CSV file\n",
    "breast_cancer_data = pd.read_csv('Resource/cancer_data.csv', usecols=lambda col: col != 'Unnamed: 32')\n",
    "\n",
    "# Display the first few rows of the DataFrame\n",
    "breast_cancer_data.head()"
   ]
  },
  {
   "cell_type": "code",
   "execution_count": 62,
   "id": "0d7b008a",
   "metadata": {},
   "outputs": [
    {
     "name": "stdout",
     "output_type": "stream",
     "text": [
      "<class 'pandas.core.frame.DataFrame'>\n",
      "RangeIndex: 569 entries, 0 to 568\n",
      "Data columns (total 31 columns):\n",
      " #   Column                   Non-Null Count  Dtype  \n",
      "---  ------                   --------------  -----  \n",
      " 0   diagnosis                569 non-null    object \n",
      " 1   radius_mean              569 non-null    float64\n",
      " 2   texture_mean             569 non-null    float64\n",
      " 3   perimeter_mean           569 non-null    float64\n",
      " 4   area_mean                569 non-null    float64\n",
      " 5   smoothness_mean          569 non-null    float64\n",
      " 6   compactness_mean         569 non-null    float64\n",
      " 7   concavity_mean           569 non-null    float64\n",
      " 8   concave points_mean      569 non-null    float64\n",
      " 9   symmetry_mean            569 non-null    float64\n",
      " 10  fractal_dimension_mean   569 non-null    float64\n",
      " 11  radius_se                569 non-null    float64\n",
      " 12  texture_se               569 non-null    float64\n",
      " 13  perimeter_se             569 non-null    float64\n",
      " 14  area_se                  569 non-null    float64\n",
      " 15  smoothness_se            569 non-null    float64\n",
      " 16  compactness_se           569 non-null    float64\n",
      " 17  concavity_se             569 non-null    float64\n",
      " 18  concave points_se        569 non-null    float64\n",
      " 19  symmetry_se              569 non-null    float64\n",
      " 20  fractal_dimension_se     569 non-null    float64\n",
      " 21  radius_worst             569 non-null    float64\n",
      " 22  texture_worst            569 non-null    float64\n",
      " 23  perimeter_worst          569 non-null    float64\n",
      " 24  area_worst               569 non-null    float64\n",
      " 25  smoothness_worst         569 non-null    float64\n",
      " 26  compactness_worst        569 non-null    float64\n",
      " 27  concavity_worst          569 non-null    float64\n",
      " 28  concave points_worst     569 non-null    float64\n",
      " 29  symmetry_worst           569 non-null    float64\n",
      " 30  fractal_dimension_worst  569 non-null    float64\n",
      "dtypes: float64(30), object(1)\n",
      "memory usage: 137.9+ KB\n"
     ]
    }
   ],
   "source": [
    "# Drop the non-beneficial ID columns, 'id'\n",
    "breast_cancer_data = breast_cancer_data.drop(columns = ['id'])\n",
    "\n",
    "# Print the data types of each column\n",
    "breast_cancer_data.info()"
   ]
  },
  {
   "cell_type": "code",
   "execution_count": 63,
   "id": "907d56b4",
   "metadata": {
    "scrolled": false
   },
   "outputs": [
    {
     "name": "stdout",
     "output_type": "stream",
     "text": [
      "diagnosis                    2\n",
      "radius_mean                456\n",
      "texture_mean               479\n",
      "perimeter_mean             522\n",
      "area_mean                  539\n",
      "smoothness_mean            474\n",
      "compactness_mean           537\n",
      "concavity_mean             537\n",
      "concave points_mean        542\n",
      "symmetry_mean              432\n",
      "fractal_dimension_mean     499\n",
      "radius_se                  540\n",
      "texture_se                 519\n",
      "perimeter_se               533\n",
      "area_se                    528\n",
      "smoothness_se              547\n",
      "compactness_se             541\n",
      "concavity_se               533\n",
      "concave points_se          507\n",
      "symmetry_se                498\n",
      "fractal_dimension_se       545\n",
      "radius_worst               457\n",
      "texture_worst              511\n",
      "perimeter_worst            514\n",
      "area_worst                 544\n",
      "smoothness_worst           411\n",
      "compactness_worst          529\n",
      "concavity_worst            539\n",
      "concave points_worst       492\n",
      "symmetry_worst             500\n",
      "fractal_dimension_worst    535\n",
      "dtype: int64\n"
     ]
    }
   ],
   "source": [
    "# Determine the number of unique values in each column.\n",
    "unique_value_counts = breast_cancer_data.nunique()\n",
    "print(unique_value_counts)"
   ]
  },
  {
   "cell_type": "code",
   "execution_count": 64,
   "id": "384b6911",
   "metadata": {},
   "outputs": [
    {
     "data": {
      "text/plain": [
       "diagnosis\n",
       "B    357\n",
       "M    212\n",
       "Name: count, dtype: int64"
      ]
     },
     "execution_count": 64,
     "metadata": {},
     "output_type": "execute_result"
    }
   ],
   "source": [
    "# Check the Target Class frequency\n",
    "breast_cancer_data['diagnosis'].value_counts()"
   ]
  },
  {
   "cell_type": "code",
   "execution_count": 65,
   "id": "2dd69607",
   "metadata": {},
   "outputs": [],
   "source": [
    "# Drop the 'id' column and set the diagnosis column as the target variable\n",
    "X = breast_cancer_data.drop(columns=['diagnosis'])\n",
    "y = breast_cancer_data['diagnosis'].map({'M': 1, 'B': 0})\n",
    "\n",
    "# Split the data into training and testing sets\n",
    "X_train, X_test, y_train, y_test = train_test_split(X, y, test_size=0.2, random_state=42)\n"
   ]
  },
  {
   "cell_type": "markdown",
   "id": "68991b83",
   "metadata": {},
   "source": [
    "## Logistic Regression using original data "
   ]
  },
  {
   "cell_type": "code",
   "execution_count": 66,
   "id": "ad0d6c14",
   "metadata": {},
   "outputs": [
    {
     "data": {
      "text/html": [
       "<style>#sk-container-id-13 {color: black;}#sk-container-id-13 pre{padding: 0;}#sk-container-id-13 div.sk-toggleable {background-color: white;}#sk-container-id-13 label.sk-toggleable__label {cursor: pointer;display: block;width: 100%;margin-bottom: 0;padding: 0.3em;box-sizing: border-box;text-align: center;}#sk-container-id-13 label.sk-toggleable__label-arrow:before {content: \"▸\";float: left;margin-right: 0.25em;color: #696969;}#sk-container-id-13 label.sk-toggleable__label-arrow:hover:before {color: black;}#sk-container-id-13 div.sk-estimator:hover label.sk-toggleable__label-arrow:before {color: black;}#sk-container-id-13 div.sk-toggleable__content {max-height: 0;max-width: 0;overflow: hidden;text-align: left;background-color: #f0f8ff;}#sk-container-id-13 div.sk-toggleable__content pre {margin: 0.2em;color: black;border-radius: 0.25em;background-color: #f0f8ff;}#sk-container-id-13 input.sk-toggleable__control:checked~div.sk-toggleable__content {max-height: 200px;max-width: 100%;overflow: auto;}#sk-container-id-13 input.sk-toggleable__control:checked~label.sk-toggleable__label-arrow:before {content: \"▾\";}#sk-container-id-13 div.sk-estimator input.sk-toggleable__control:checked~label.sk-toggleable__label {background-color: #d4ebff;}#sk-container-id-13 div.sk-label input.sk-toggleable__control:checked~label.sk-toggleable__label {background-color: #d4ebff;}#sk-container-id-13 input.sk-hidden--visually {border: 0;clip: rect(1px 1px 1px 1px);clip: rect(1px, 1px, 1px, 1px);height: 1px;margin: -1px;overflow: hidden;padding: 0;position: absolute;width: 1px;}#sk-container-id-13 div.sk-estimator {font-family: monospace;background-color: #f0f8ff;border: 1px dotted black;border-radius: 0.25em;box-sizing: border-box;margin-bottom: 0.5em;}#sk-container-id-13 div.sk-estimator:hover {background-color: #d4ebff;}#sk-container-id-13 div.sk-parallel-item::after {content: \"\";width: 100%;border-bottom: 1px solid gray;flex-grow: 1;}#sk-container-id-13 div.sk-label:hover label.sk-toggleable__label {background-color: #d4ebff;}#sk-container-id-13 div.sk-serial::before {content: \"\";position: absolute;border-left: 1px solid gray;box-sizing: border-box;top: 0;bottom: 0;left: 50%;z-index: 0;}#sk-container-id-13 div.sk-serial {display: flex;flex-direction: column;align-items: center;background-color: white;padding-right: 0.2em;padding-left: 0.2em;position: relative;}#sk-container-id-13 div.sk-item {position: relative;z-index: 1;}#sk-container-id-13 div.sk-parallel {display: flex;align-items: stretch;justify-content: center;background-color: white;position: relative;}#sk-container-id-13 div.sk-item::before, #sk-container-id-13 div.sk-parallel-item::before {content: \"\";position: absolute;border-left: 1px solid gray;box-sizing: border-box;top: 0;bottom: 0;left: 50%;z-index: -1;}#sk-container-id-13 div.sk-parallel-item {display: flex;flex-direction: column;z-index: 1;position: relative;background-color: white;}#sk-container-id-13 div.sk-parallel-item:first-child::after {align-self: flex-end;width: 50%;}#sk-container-id-13 div.sk-parallel-item:last-child::after {align-self: flex-start;width: 50%;}#sk-container-id-13 div.sk-parallel-item:only-child::after {width: 0;}#sk-container-id-13 div.sk-dashed-wrapped {border: 1px dashed gray;margin: 0 0.4em 0.5em 0.4em;box-sizing: border-box;padding-bottom: 0.4em;background-color: white;}#sk-container-id-13 div.sk-label label {font-family: monospace;font-weight: bold;display: inline-block;line-height: 1.2em;}#sk-container-id-13 div.sk-label-container {text-align: center;}#sk-container-id-13 div.sk-container {/* jupyter's `normalize.less` sets `[hidden] { display: none; }` but bootstrap.min.css set `[hidden] { display: none !important; }` so we also need the `!important` here to be able to override the default hidden behavior on the sphinx rendered scikit-learn.org. See: https://github.com/scikit-learn/scikit-learn/issues/21755 */display: inline-block !important;position: relative;}#sk-container-id-13 div.sk-text-repr-fallback {display: none;}</style><div id=\"sk-container-id-13\" class=\"sk-top-container\"><div class=\"sk-text-repr-fallback\"><pre>LogisticRegression(max_iter=5000)</pre><b>In a Jupyter environment, please rerun this cell to show the HTML representation or trust the notebook. <br />On GitHub, the HTML representation is unable to render, please try loading this page with nbviewer.org.</b></div><div class=\"sk-container\" hidden><div class=\"sk-item\"><div class=\"sk-estimator sk-toggleable\"><input class=\"sk-toggleable__control sk-hidden--visually\" id=\"sk-estimator-id-13\" type=\"checkbox\" checked><label for=\"sk-estimator-id-13\" class=\"sk-toggleable__label sk-toggleable__label-arrow\">LogisticRegression</label><div class=\"sk-toggleable__content\"><pre>LogisticRegression(max_iter=5000)</pre></div></div></div></div></div>"
      ],
      "text/plain": [
       "LogisticRegression(max_iter=5000)"
      ]
     },
     "execution_count": 66,
     "metadata": {},
     "output_type": "execute_result"
    }
   ],
   "source": [
    "# Create a Logistic Regression model with a higher maximum number of iterations\n",
    "logreg = LogisticRegression(max_iter=5000)\n",
    "\n",
    "# Fit the model to the breast cancer data\n",
    "logreg.fit(X_train, y_train)\n"
   ]
  },
  {
   "cell_type": "code",
   "execution_count": 67,
   "id": "6f7be0f7",
   "metadata": {
    "scrolled": true
   },
   "outputs": [
    {
     "name": "stdout",
     "output_type": "stream",
     "text": [
      "Logistic Regression Accuracy: 95.61%\n",
      "\n",
      "\n",
      "Logistic Regression Confusion Matrix:\n",
      "\n",
      "[[70  1]\n",
      " [ 4 39]]\n",
      "\n",
      "\n",
      "Logistic Regression Classification Report:\n",
      "\n",
      "              precision    recall  f1-score   support\n",
      "\n",
      "           0       0.95      0.99      0.97        71\n",
      "           1       0.97      0.91      0.94        43\n",
      "\n",
      "    accuracy                           0.96       114\n",
      "   macro avg       0.96      0.95      0.95       114\n",
      "weighted avg       0.96      0.96      0.96       114\n",
      "\n",
      "\n",
      "\n"
     ]
    },
    {
     "data": {
      "image/png": "[encoded data removed]",
      "text/plain": [
       "<Figure size 432x288 with 2 Axes>"
      ]
     },
     "metadata": {
      "needs_background": "light"
     },
     "output_type": "display_data"
    }
   ],
   "source": [
    "# Predict on test set and calculate accuracy\n",
    "y_pred_log = logreg.predict(X_test)\n",
    "\n",
    "# Evaluate the Model\n",
    "linreg_prec, linreg_accuracy, linreg_recall, linreg_f1 = evaluate_model(y_test, y_pred_log, \"Logistic Regression\")\n"
   ]
  },
  {
   "cell_type": "markdown",
   "id": "ec0b2090",
   "metadata": {},
   "source": [
    "True Negatives: 70\n",
    "    \n",
    "False Positives: 1\n",
    "    \n",
    "False Negatives: 4\n",
    "    \n",
    "True Positives: 39"
   ]
  },
  {
   "cell_type": "markdown",
   "id": "5dbf3a5c",
   "metadata": {},
   "source": [
    "## Logistic Regression Model with Resampled Training Data\n",
    "\n",
    "### Step 1: Use the RandomOverSampler module from the imbalanced-learn library to resample the data. Be sure to confirm that the labels have an equal number of data points.\n"
   ]
  },
  {
   "cell_type": "code",
   "execution_count": 116,
   "id": "d701b362",
   "metadata": {},
   "outputs": [],
   "source": [
    "# Import the RandomOverSampler module form imbalanced-learn\n",
    "from imblearn.over_sampling import RandomOverSampler"
   ]
  },
  {
   "cell_type": "code",
   "execution_count": 117,
   "id": "b1e40365",
   "metadata": {},
   "outputs": [],
   "source": [
    "# Instantiate the random oversampler model\n",
    "# # Assign a random_state parameter of 1 to the model\n",
    "random_oversampler_model = RandomOverSampler(random_state = 1)"
   ]
  },
  {
   "cell_type": "code",
   "execution_count": 118,
   "id": "33ec358c",
   "metadata": {},
   "outputs": [
    {
     "data": {
      "text/plain": [
       "diagnosis\n",
       "0    286\n",
       "1    286\n",
       "Name: count, dtype: int64"
      ]
     },
     "execution_count": 118,
     "metadata": {},
     "output_type": "execute_result"
    }
   ],
   "source": [
    "# Fit the original training data to the random_oversampler model\n",
    "X_rsample, y_rsample = random_oversampler_model.fit_resample(X_train, y_train)\n",
    "# Count the distinct values of the resampled labels data\n",
    "y_rsample.value_counts()"
   ]
  },
  {
   "cell_type": "markdown",
   "id": "76d183e7",
   "metadata": {},
   "source": [
    "### Step 2: Use the LogisticRegression classifier and the resampled data to fit the model and make predictions."
   ]
  },
  {
   "cell_type": "code",
   "execution_count": 106,
   "id": "e18d3563",
   "metadata": {},
   "outputs": [
    {
     "data": {
      "text/html": [
       "<div>\n",
       "<style scoped>\n",
       "    .dataframe tbody tr th:only-of-type {\n",
       "        vertical-align: middle;\n",
       "    }\n",
       "\n",
       "    .dataframe tbody tr th {\n",
       "        vertical-align: top;\n",
       "    }\n",
       "\n",
       "    .dataframe thead th {\n",
       "        text-align: right;\n",
       "    }\n",
       "</style>\n",
       "<table border=\"1\" class=\"dataframe\">\n",
       "  <thead>\n",
       "    <tr style=\"text-align: right;\">\n",
       "      <th></th>\n",
       "      <th>Prediction</th>\n",
       "      <th>Actual</th>\n",
       "    </tr>\n",
       "  </thead>\n",
       "  <tbody>\n",
       "    <tr>\n",
       "      <th>204</th>\n",
       "      <td>0</td>\n",
       "      <td>0</td>\n",
       "    </tr>\n",
       "    <tr>\n",
       "      <th>70</th>\n",
       "      <td>1</td>\n",
       "      <td>1</td>\n",
       "    </tr>\n",
       "    <tr>\n",
       "      <th>131</th>\n",
       "      <td>1</td>\n",
       "      <td>1</td>\n",
       "    </tr>\n",
       "    <tr>\n",
       "      <th>431</th>\n",
       "      <td>0</td>\n",
       "      <td>0</td>\n",
       "    </tr>\n",
       "    <tr>\n",
       "      <th>540</th>\n",
       "      <td>0</td>\n",
       "      <td>0</td>\n",
       "    </tr>\n",
       "  </tbody>\n",
       "</table>\n",
       "</div>"
      ],
      "text/plain": [
       "     Prediction  Actual\n",
       "204           0       0\n",
       "70            1       1\n",
       "131           1       1\n",
       "431           0       0\n",
       "540           0       0"
      ]
     },
     "execution_count": 106,
     "metadata": {},
     "output_type": "execute_result"
    }
   ],
   "source": [
    "# Instantiate the Logistic Regression model\n",
    "# Assign a random_state parameter of 1 to the model\n",
    "sample_classifier = LogisticRegression(solver='lbfgs', random_state=1)\n",
    "\n",
    "# Fit the model using training data\n",
    "sample_classifier.fit(X_rsample, y_rsample)\n",
    "\n",
    "# Make a prediction using the testing data\n",
    "y_pred_log_balance = sample_classifier.predict(X_test)\n",
    "pd.DataFrame({\"Prediction\": y_pred_log_balance, \"Actual\": y_test}).head()"
   ]
  },
  {
   "cell_type": "markdown",
   "id": "a540f9db",
   "metadata": {},
   "source": [
    "### Step 3: Evaluate the model’s performance by doing the following:\n",
    "\n",
    "* Calculate the accuracy score of the model.\n",
    "\n",
    "* Generate a confusion matrix.\n",
    "\n",
    "* Print the classification report."
   ]
  },
  {
   "cell_type": "code",
   "execution_count": 107,
   "id": "512fbe03",
   "metadata": {},
   "outputs": [
    {
     "name": "stdout",
     "output_type": "stream",
     "text": [
      "Logistic Regression Accuracy: 98.25%\n",
      "\n",
      "\n",
      "Logistic Regression Confusion Matrix:\n",
      "\n",
      "[[70  1]\n",
      " [ 1 42]]\n",
      "\n",
      "\n",
      "Logistic Regression Classification Report:\n",
      "\n",
      "              precision    recall  f1-score   support\n",
      "\n",
      "           0       0.99      0.99      0.99        71\n",
      "           1       0.98      0.98      0.98        43\n",
      "\n",
      "    accuracy                           0.98       114\n",
      "   macro avg       0.98      0.98      0.98       114\n",
      "weighted avg       0.98      0.98      0.98       114\n",
      "\n",
      "\n",
      "\n"
     ]
    },
    {
     "data": {
      "image/png": "[encoded data removed]",
      "text/plain": [
       "<Figure size 432x288 with 2 Axes>"
      ]
     },
     "metadata": {
      "needs_background": "light"
     },
     "output_type": "display_data"
    }
   ],
   "source": [
    "# Predict on test set and calculate accuracy\n",
    "y_pred_log_balance = sample_classifier.predict(X_test)\n",
    "\n",
    "# Evaluate the Model\n",
    "linreg_prec_balance, linreg_accuracy_balance, linreg_recall_balance, linreg_f1_balance = evaluate_model(y_test, y_pred_log_balance, \"Logistic Regression\")"
   ]
  },
  {
   "cell_type": "markdown",
   "id": "38da5f67",
   "metadata": {},
   "source": [
    "## Support Vector Machine (SVM) using the 'linear' basis function kernel (\"rbf\")"
   ]
  },
  {
   "cell_type": "code",
   "execution_count": 121,
   "id": "022ce427",
   "metadata": {},
   "outputs": [
    {
     "data": {
      "text/html": [
       "<style>#sk-container-id-19 {color: black;}#sk-container-id-19 pre{padding: 0;}#sk-container-id-19 div.sk-toggleable {background-color: white;}#sk-container-id-19 label.sk-toggleable__label {cursor: pointer;display: block;width: 100%;margin-bottom: 0;padding: 0.3em;box-sizing: border-box;text-align: center;}#sk-container-id-19 label.sk-toggleable__label-arrow:before {content: \"▸\";float: left;margin-right: 0.25em;color: #696969;}#sk-container-id-19 label.sk-toggleable__label-arrow:hover:before {color: black;}#sk-container-id-19 div.sk-estimator:hover label.sk-toggleable__label-arrow:before {color: black;}#sk-container-id-19 div.sk-toggleable__content {max-height: 0;max-width: 0;overflow: hidden;text-align: left;background-color: #f0f8ff;}#sk-container-id-19 div.sk-toggleable__content pre {margin: 0.2em;color: black;border-radius: 0.25em;background-color: #f0f8ff;}#sk-container-id-19 input.sk-toggleable__control:checked~div.sk-toggleable__content {max-height: 200px;max-width: 100%;overflow: auto;}#sk-container-id-19 input.sk-toggleable__control:checked~label.sk-toggleable__label-arrow:before {content: \"▾\";}#sk-container-id-19 div.sk-estimator input.sk-toggleable__control:checked~label.sk-toggleable__label {background-color: #d4ebff;}#sk-container-id-19 div.sk-label input.sk-toggleable__control:checked~label.sk-toggleable__label {background-color: #d4ebff;}#sk-container-id-19 input.sk-hidden--visually {border: 0;clip: rect(1px 1px 1px 1px);clip: rect(1px, 1px, 1px, 1px);height: 1px;margin: -1px;overflow: hidden;padding: 0;position: absolute;width: 1px;}#sk-container-id-19 div.sk-estimator {font-family: monospace;background-color: #f0f8ff;border: 1px dotted black;border-radius: 0.25em;box-sizing: border-box;margin-bottom: 0.5em;}#sk-container-id-19 div.sk-estimator:hover {background-color: #d4ebff;}#sk-container-id-19 div.sk-parallel-item::after {content: \"\";width: 100%;border-bottom: 1px solid gray;flex-grow: 1;}#sk-container-id-19 div.sk-label:hover label.sk-toggleable__label {background-color: #d4ebff;}#sk-container-id-19 div.sk-serial::before {content: \"\";position: absolute;border-left: 1px solid gray;box-sizing: border-box;top: 0;bottom: 0;left: 50%;z-index: 0;}#sk-container-id-19 div.sk-serial {display: flex;flex-direction: column;align-items: center;background-color: white;padding-right: 0.2em;padding-left: 0.2em;position: relative;}#sk-container-id-19 div.sk-item {position: relative;z-index: 1;}#sk-container-id-19 div.sk-parallel {display: flex;align-items: stretch;justify-content: center;background-color: white;position: relative;}#sk-container-id-19 div.sk-item::before, #sk-container-id-19 div.sk-parallel-item::before {content: \"\";position: absolute;border-left: 1px solid gray;box-sizing: border-box;top: 0;bottom: 0;left: 50%;z-index: -1;}#sk-container-id-19 div.sk-parallel-item {display: flex;flex-direction: column;z-index: 1;position: relative;background-color: white;}#sk-container-id-19 div.sk-parallel-item:first-child::after {align-self: flex-end;width: 50%;}#sk-container-id-19 div.sk-parallel-item:last-child::after {align-self: flex-start;width: 50%;}#sk-container-id-19 div.sk-parallel-item:only-child::after {width: 0;}#sk-container-id-19 div.sk-dashed-wrapped {border: 1px dashed gray;margin: 0 0.4em 0.5em 0.4em;box-sizing: border-box;padding-bottom: 0.4em;background-color: white;}#sk-container-id-19 div.sk-label label {font-family: monospace;font-weight: bold;display: inline-block;line-height: 1.2em;}#sk-container-id-19 div.sk-label-container {text-align: center;}#sk-container-id-19 div.sk-container {/* jupyter's `normalize.less` sets `[hidden] { display: none; }` but bootstrap.min.css set `[hidden] { display: none !important; }` so we also need the `!important` here to be able to override the default hidden behavior on the sphinx rendered scikit-learn.org. See: https://github.com/scikit-learn/scikit-learn/issues/21755 */display: inline-block !important;position: relative;}#sk-container-id-19 div.sk-text-repr-fallback {display: none;}</style><div id=\"sk-container-id-19\" class=\"sk-top-container\"><div class=\"sk-text-repr-fallback\"><pre>SVC(kernel=&#x27;linear&#x27;)</pre><b>In a Jupyter environment, please rerun this cell to show the HTML representation or trust the notebook. <br />On GitHub, the HTML representation is unable to render, please try loading this page with nbviewer.org.</b></div><div class=\"sk-container\" hidden><div class=\"sk-item\"><div class=\"sk-estimator sk-toggleable\"><input class=\"sk-toggleable__control sk-hidden--visually\" id=\"sk-estimator-id-19\" type=\"checkbox\" checked><label for=\"sk-estimator-id-19\" class=\"sk-toggleable__label sk-toggleable__label-arrow\">SVC</label><div class=\"sk-toggleable__content\"><pre>SVC(kernel=&#x27;linear&#x27;)</pre></div></div></div></div></div>"
      ],
      "text/plain": [
       "SVC(kernel='linear')"
      ]
     },
     "execution_count": 121,
     "metadata": {},
     "output_type": "execute_result"
    }
   ],
   "source": [
    "# Initialize and fit SVM model\n",
    "svmL = SVC(kernel='linear')\n",
    "svmL.fit(X_train, y_train)"
   ]
  },
  {
   "cell_type": "code",
   "execution_count": 122,
   "id": "39db33cc",
   "metadata": {},
   "outputs": [
    {
     "name": "stdout",
     "output_type": "stream",
     "text": [
      "SVM Accuracy: 95.61%\n",
      "\n",
      "\n",
      "SVM Confusion Matrix:\n",
      "\n",
      "[[68  3]\n",
      " [ 2 41]]\n",
      "\n",
      "\n",
      "SVM Classification Report:\n",
      "\n",
      "              precision    recall  f1-score   support\n",
      "\n",
      "           0       0.97      0.96      0.96        71\n",
      "           1       0.93      0.95      0.94        43\n",
      "\n",
      "    accuracy                           0.96       114\n",
      "   macro avg       0.95      0.96      0.95       114\n",
      "weighted avg       0.96      0.96      0.96       114\n",
      "\n",
      "\n",
      "\n"
     ]
    },
    {
     "data": {
      "image/png": "[encoded data removed]",
      "text/plain": [
       "<Figure size 432x288 with 2 Axes>"
      ]
     },
     "metadata": {
      "needs_background": "light"
     },
     "output_type": "display_data"
    }
   ],
   "source": [
    "# Predict on test set and calculate accuracy\n",
    "y_pred_svmL = svm.predict(X_test)\n",
    "\n",
    "# Evaluate the model\n",
    "svm_precL, svm_accuracyL, svm_recallL, svm_f1L = evaluate_model(y_test, y_pred_svmL, \"SVM\")\n"
   ]
  },
  {
   "cell_type": "markdown",
   "id": "c7086c74",
   "metadata": {},
   "source": [
    "## Support Vector Machine (SVM) using the radial basis function kernel (\"rbf\")"
   ]
  },
  {
   "cell_type": "code",
   "execution_count": 123,
   "id": "f8f2c668",
   "metadata": {},
   "outputs": [
    {
     "data": {
      "text/html": [
       "<style>#sk-container-id-20 {color: black;}#sk-container-id-20 pre{padding: 0;}#sk-container-id-20 div.sk-toggleable {background-color: white;}#sk-container-id-20 label.sk-toggleable__label {cursor: pointer;display: block;width: 100%;margin-bottom: 0;padding: 0.3em;box-sizing: border-box;text-align: center;}#sk-container-id-20 label.sk-toggleable__label-arrow:before {content: \"▸\";float: left;margin-right: 0.25em;color: #696969;}#sk-container-id-20 label.sk-toggleable__label-arrow:hover:before {color: black;}#sk-container-id-20 div.sk-estimator:hover label.sk-toggleable__label-arrow:before {color: black;}#sk-container-id-20 div.sk-toggleable__content {max-height: 0;max-width: 0;overflow: hidden;text-align: left;background-color: #f0f8ff;}#sk-container-id-20 div.sk-toggleable__content pre {margin: 0.2em;color: black;border-radius: 0.25em;background-color: #f0f8ff;}#sk-container-id-20 input.sk-toggleable__control:checked~div.sk-toggleable__content {max-height: 200px;max-width: 100%;overflow: auto;}#sk-container-id-20 input.sk-toggleable__control:checked~label.sk-toggleable__label-arrow:before {content: \"▾\";}#sk-container-id-20 div.sk-estimator input.sk-toggleable__control:checked~label.sk-toggleable__label {background-color: #d4ebff;}#sk-container-id-20 div.sk-label input.sk-toggleable__control:checked~label.sk-toggleable__label {background-color: #d4ebff;}#sk-container-id-20 input.sk-hidden--visually {border: 0;clip: rect(1px 1px 1px 1px);clip: rect(1px, 1px, 1px, 1px);height: 1px;margin: -1px;overflow: hidden;padding: 0;position: absolute;width: 1px;}#sk-container-id-20 div.sk-estimator {font-family: monospace;background-color: #f0f8ff;border: 1px dotted black;border-radius: 0.25em;box-sizing: border-box;margin-bottom: 0.5em;}#sk-container-id-20 div.sk-estimator:hover {background-color: #d4ebff;}#sk-container-id-20 div.sk-parallel-item::after {content: \"\";width: 100%;border-bottom: 1px solid gray;flex-grow: 1;}#sk-container-id-20 div.sk-label:hover label.sk-toggleable__label {background-color: #d4ebff;}#sk-container-id-20 div.sk-serial::before {content: \"\";position: absolute;border-left: 1px solid gray;box-sizing: border-box;top: 0;bottom: 0;left: 50%;z-index: 0;}#sk-container-id-20 div.sk-serial {display: flex;flex-direction: column;align-items: center;background-color: white;padding-right: 0.2em;padding-left: 0.2em;position: relative;}#sk-container-id-20 div.sk-item {position: relative;z-index: 1;}#sk-container-id-20 div.sk-parallel {display: flex;align-items: stretch;justify-content: center;background-color: white;position: relative;}#sk-container-id-20 div.sk-item::before, #sk-container-id-20 div.sk-parallel-item::before {content: \"\";position: absolute;border-left: 1px solid gray;box-sizing: border-box;top: 0;bottom: 0;left: 50%;z-index: -1;}#sk-container-id-20 div.sk-parallel-item {display: flex;flex-direction: column;z-index: 1;position: relative;background-color: white;}#sk-container-id-20 div.sk-parallel-item:first-child::after {align-self: flex-end;width: 50%;}#sk-container-id-20 div.sk-parallel-item:last-child::after {align-self: flex-start;width: 50%;}#sk-container-id-20 div.sk-parallel-item:only-child::after {width: 0;}#sk-container-id-20 div.sk-dashed-wrapped {border: 1px dashed gray;margin: 0 0.4em 0.5em 0.4em;box-sizing: border-box;padding-bottom: 0.4em;background-color: white;}#sk-container-id-20 div.sk-label label {font-family: monospace;font-weight: bold;display: inline-block;line-height: 1.2em;}#sk-container-id-20 div.sk-label-container {text-align: center;}#sk-container-id-20 div.sk-container {/* jupyter's `normalize.less` sets `[hidden] { display: none; }` but bootstrap.min.css set `[hidden] { display: none !important; }` so we also need the `!important` here to be able to override the default hidden behavior on the sphinx rendered scikit-learn.org. See: https://github.com/scikit-learn/scikit-learn/issues/21755 */display: inline-block !important;position: relative;}#sk-container-id-20 div.sk-text-repr-fallback {display: none;}</style><div id=\"sk-container-id-20\" class=\"sk-top-container\"><div class=\"sk-text-repr-fallback\"><pre>SVC()</pre><b>In a Jupyter environment, please rerun this cell to show the HTML representation or trust the notebook. <br />On GitHub, the HTML representation is unable to render, please try loading this page with nbviewer.org.</b></div><div class=\"sk-container\" hidden><div class=\"sk-item\"><div class=\"sk-estimator sk-toggleable\"><input class=\"sk-toggleable__control sk-hidden--visually\" id=\"sk-estimator-id-20\" type=\"checkbox\" checked><label for=\"sk-estimator-id-20\" class=\"sk-toggleable__label sk-toggleable__label-arrow\">SVC</label><div class=\"sk-toggleable__content\"><pre>SVC()</pre></div></div></div></div></div>"
      ],
      "text/plain": [
       "SVC()"
      ]
     },
     "execution_count": 123,
     "metadata": {},
     "output_type": "execute_result"
    }
   ],
   "source": [
    "# Initialize and fit SVM model\n",
    "svm = SVC(kernel='rbf')\n",
    "svm.fit(X_train, y_train)\n"
   ]
  },
  {
   "cell_type": "code",
   "execution_count": 124,
   "id": "dbd552da",
   "metadata": {},
   "outputs": [
    {
     "name": "stdout",
     "output_type": "stream",
     "text": [
      "SVM Accuracy: 98.25%\n",
      "\n",
      "\n",
      "SVM Confusion Matrix:\n",
      "\n",
      "[[71  0]\n",
      " [ 2 41]]\n",
      "\n",
      "\n",
      "SVM Classification Report:\n",
      "\n",
      "              precision    recall  f1-score   support\n",
      "\n",
      "           0       0.97      1.00      0.99        71\n",
      "           1       1.00      0.95      0.98        43\n",
      "\n",
      "    accuracy                           0.98       114\n",
      "   macro avg       0.99      0.98      0.98       114\n",
      "weighted avg       0.98      0.98      0.98       114\n",
      "\n",
      "\n",
      "\n"
     ]
    },
    {
     "data": {
      "image/png": "[encoded data removed]",
      "text/plain": [
       "<Figure size 432x288 with 2 Axes>"
      ]
     },
     "metadata": {
      "needs_background": "light"
     },
     "output_type": "display_data"
    }
   ],
   "source": [
    "# Predict on test set and calculate accuracy\n",
    "y_pred_svm = svm.predict(X_test)\n",
    "\n",
    "# Evaluate the model\n",
    "svm_prec, svm_accuracy, svm_recall, svm_f1 = evaluate_model(y_test, y_pred_svm, \"SVM\")\n"
   ]
  },
  {
   "cell_type": "markdown",
   "id": "e4a40be8",
   "metadata": {},
   "source": [
    "## Neural Networks"
   ]
  },
  {
   "cell_type": "code",
   "execution_count": 125,
   "id": "c5195791",
   "metadata": {
    "scrolled": false
   },
   "outputs": [
    {
     "name": "stdout",
     "output_type": "stream",
     "text": [
      "Epoch 1/10\n",
      "29/29 [==============================] - 2s 14ms/step - loss: 0.6361 - accuracy: 0.5560 - val_loss: 0.6092 - val_accuracy: 0.7193\n",
      "Epoch 2/10\n",
      "29/29 [==============================] - 0s 5ms/step - loss: 0.5883 - accuracy: 0.8352 - val_loss: 0.5705 - val_accuracy: 0.8684\n",
      "Epoch 3/10\n",
      "29/29 [==============================] - 0s 6ms/step - loss: 0.5527 - accuracy: 0.8989 - val_loss: 0.5384 - val_accuracy: 0.9035\n",
      "Epoch 4/10\n",
      "29/29 [==============================] - 0s 5ms/step - loss: 0.5231 - accuracy: 0.9165 - val_loss: 0.5109 - val_accuracy: 0.9211\n",
      "Epoch 5/10\n",
      "29/29 [==============================] - 0s 5ms/step - loss: 0.4979 - accuracy: 0.9297 - val_loss: 0.4883 - val_accuracy: 0.9386\n",
      "Epoch 6/10\n",
      "29/29 [==============================] - 0s 5ms/step - loss: 0.4768 - accuracy: 0.9363 - val_loss: 0.4696 - val_accuracy: 0.9474\n",
      "Epoch 7/10\n",
      "29/29 [==============================] - 0s 6ms/step - loss: 0.4594 - accuracy: 0.9473 - val_loss: 0.4527 - val_accuracy: 0.9474\n",
      "Epoch 8/10\n",
      "29/29 [==============================] - 0s 6ms/step - loss: 0.4441 - accuracy: 0.9538 - val_loss: 0.4378 - val_accuracy: 0.9561\n",
      "Epoch 9/10\n",
      "29/29 [==============================] - 0s 6ms/step - loss: 0.4307 - accuracy: 0.9516 - val_loss: 0.4241 - val_accuracy: 0.9649\n",
      "Epoch 10/10\n",
      "29/29 [==============================] - 0s 5ms/step - loss: 0.4185 - accuracy: 0.9516 - val_loss: 0.4118 - val_accuracy: 0.9649\n",
      "4/4 [==============================] - 0s 4ms/step - loss: 0.4118 - accuracy: 0.9649\n",
      "\n",
      "\n",
      "Test loss: 0.4118\n",
      "Test accuracy: 96.49%\n",
      "\n",
      "\n"
     ]
    }
   ],
   "source": [
    "# Define the model\n",
    "model = Sequential()\n",
    "model.add(Dense(8, input_dim=X_train.shape[1], activation='relu'))\n",
    "model.add(Dense(2, activation='relu'))\n",
    "model.add(Dense(1, activation='sigmoid'))\n",
    "\n",
    "# Compile the model\n",
    "model.compile(loss='binary_crossentropy', optimizer='adam', metrics=['accuracy'])\n",
    "\n",
    "# Train the model\n",
    "model.fit(X_train, y_train, epochs=10, batch_size=16, validation_data=(X_test, y_test))\n",
    "\n",
    "# Evaluate the model on the test set\n",
    "loss, nn_accuracy = model.evaluate(X_test, y_test)\n",
    "print(f'\\n\\nTest loss: {loss:.4f}\\nTest accuracy: {nn_accuracy*100:.2f}%\\n\\n')"
   ]
  },
  {
   "cell_type": "code",
   "execution_count": 90,
   "id": "1c36dbec",
   "metadata": {
    "scrolled": true
   },
   "outputs": [
    {
     "name": "stdout",
     "output_type": "stream",
     "text": [
      "4/4 [==============================] - 0s 3ms/step\n",
      "Neural Network Accuracy: 96.49%\n",
      "\n",
      "\n",
      "Neural Network Confusion Matrix:\n",
      "\n",
      "[[68  3]\n",
      " [ 1 42]]\n",
      "\n",
      "\n",
      "Neural Network Classification Report:\n",
      "\n",
      "              precision    recall  f1-score   support\n",
      "\n",
      "           0       0.99      0.96      0.97        71\n",
      "           1       0.93      0.98      0.95        43\n",
      "\n",
      "    accuracy                           0.96       114\n",
      "   macro avg       0.96      0.97      0.96       114\n",
      "weighted avg       0.97      0.96      0.97       114\n",
      "\n",
      "\n",
      "\n"
     ]
    },
    {
     "data": {
      "image/png": "[encoded data removed]",
      "text/plain": [
       "<Figure size 432x288 with 2 Axes>"
      ]
     },
     "metadata": {
      "needs_background": "light"
     },
     "output_type": "display_data"
    }
   ],
   "source": [
    "# Predict on test set and calculate accuracy\n",
    "y_pred_proba = model.predict(X_test)\n",
    "y_pred_nn = np.round(y_pred_proba).astype(int)\n",
    "\n",
    "\n",
    "# Evaluate the Model\n",
    "\n",
    "nn_prec, nn_accuracy, nn_recall, nn_f1 = evaluate_model(y_test, y_pred_nn, \"Neural Network\")\n"
   ]
  },
  {
   "cell_type": "markdown",
   "id": "a1e2bdd5",
   "metadata": {},
   "source": [
    "True Negatives: 53\n",
    "\n",
    "False Positives: 18\n",
    "\n",
    "False Negatives: 4\n",
    "\n",
    "True Positives: 39"
   ]
  },
  {
   "cell_type": "markdown",
   "id": "d404d7f0",
   "metadata": {},
   "source": [
    "## Optimized Neural Network 1.1"
   ]
  },
  {
   "cell_type": "code",
   "execution_count": 91,
   "id": "0b4061b6",
   "metadata": {},
   "outputs": [
    {
     "name": "stdout",
     "output_type": "stream",
     "text": [
      "Epoch 1/50\n",
      "29/29 [==============================] - 3s 15ms/step - loss: 0.6252 - accuracy: 0.8132 - val_loss: 0.5663 - val_accuracy: 0.9123\n",
      "Epoch 2/50\n",
      "29/29 [==============================] - 0s 6ms/step - loss: 0.4816 - accuracy: 0.9231 - val_loss: 0.4016 - val_accuracy: 0.9386\n",
      "Epoch 3/50\n",
      "29/29 [==============================] - 0s 6ms/step - loss: 0.3368 - accuracy: 0.9275 - val_loss: 0.2652 - val_accuracy: 0.9649\n",
      "Epoch 4/50\n",
      "29/29 [==============================] - 0s 7ms/step - loss: 0.2324 - accuracy: 0.9495 - val_loss: 0.1801 - val_accuracy: 0.9649\n",
      "Epoch 5/50\n",
      "29/29 [==============================] - 0s 6ms/step - loss: 0.1694 - accuracy: 0.9538 - val_loss: 0.1338 - val_accuracy: 0.9649\n",
      "Epoch 6/50\n",
      "29/29 [==============================] - 0s 6ms/step - loss: 0.1347 - accuracy: 0.9626 - val_loss: 0.1081 - val_accuracy: 0.9649\n",
      "Epoch 7/50\n",
      "29/29 [==============================] - 0s 6ms/step - loss: 0.1135 - accuracy: 0.9736 - val_loss: 0.0937 - val_accuracy: 0.9649\n",
      "Epoch 8/50\n",
      "29/29 [==============================] - 0s 6ms/step - loss: 0.0983 - accuracy: 0.9780 - val_loss: 0.0877 - val_accuracy: 0.9649\n",
      "Epoch 9/50\n",
      "29/29 [==============================] - 0s 7ms/step - loss: 0.0890 - accuracy: 0.9846 - val_loss: 0.0805 - val_accuracy: 0.9649\n",
      "Epoch 10/50\n",
      "29/29 [==============================] - 0s 6ms/step - loss: 0.0809 - accuracy: 0.9824 - val_loss: 0.0775 - val_accuracy: 0.9649\n",
      "Epoch 11/50\n",
      "29/29 [==============================] - 0s 5ms/step - loss: 0.0755 - accuracy: 0.9802 - val_loss: 0.0732 - val_accuracy: 0.9649\n",
      "Epoch 12/50\n",
      "29/29 [==============================] - 0s 7ms/step - loss: 0.0708 - accuracy: 0.9802 - val_loss: 0.0710 - val_accuracy: 0.9649\n",
      "Epoch 13/50\n",
      "29/29 [==============================] - 0s 7ms/step - loss: 0.0668 - accuracy: 0.9802 - val_loss: 0.0672 - val_accuracy: 0.9737\n",
      "Epoch 14/50\n",
      "29/29 [==============================] - 0s 8ms/step - loss: 0.0638 - accuracy: 0.9802 - val_loss: 0.0654 - val_accuracy: 0.9737\n",
      "Epoch 15/50\n",
      "29/29 [==============================] - 0s 6ms/step - loss: 0.0605 - accuracy: 0.9802 - val_loss: 0.0644 - val_accuracy: 0.9737\n",
      "Epoch 16/50\n",
      "29/29 [==============================] - 0s 7ms/step - loss: 0.0575 - accuracy: 0.9802 - val_loss: 0.0612 - val_accuracy: 0.9737\n",
      "Epoch 17/50\n",
      "29/29 [==============================] - 0s 6ms/step - loss: 0.0554 - accuracy: 0.9802 - val_loss: 0.0604 - val_accuracy: 0.9737\n",
      "Epoch 18/50\n",
      "29/29 [==============================] - 0s 6ms/step - loss: 0.0526 - accuracy: 0.9846 - val_loss: 0.0600 - val_accuracy: 0.9649\n",
      "Epoch 19/50\n",
      "29/29 [==============================] - 0s 6ms/step - loss: 0.0504 - accuracy: 0.9824 - val_loss: 0.0607 - val_accuracy: 0.9649\n",
      "Epoch 20/50\n",
      "29/29 [==============================] - 0s 10ms/step - loss: 0.0482 - accuracy: 0.9846 - val_loss: 0.0615 - val_accuracy: 0.9649\n",
      "Epoch 21/50\n",
      "29/29 [==============================] - 0s 6ms/step - loss: 0.0458 - accuracy: 0.9846 - val_loss: 0.0623 - val_accuracy: 0.9649\n",
      "Epoch 22/50\n",
      "29/29 [==============================] - 0s 8ms/step - loss: 0.0441 - accuracy: 0.9868 - val_loss: 0.0629 - val_accuracy: 0.9649\n",
      "Epoch 23/50\n",
      "29/29 [==============================] - 0s 7ms/step - loss: 0.0423 - accuracy: 0.9868 - val_loss: 0.0637 - val_accuracy: 0.9649\n",
      "Epoch 24/50\n",
      "29/29 [==============================] - 0s 7ms/step - loss: 0.0413 - accuracy: 0.9868 - val_loss: 0.0641 - val_accuracy: 0.9737\n",
      "Epoch 25/50\n",
      "29/29 [==============================] - 0s 9ms/step - loss: 0.0393 - accuracy: 0.9868 - val_loss: 0.0668 - val_accuracy: 0.9649\n",
      "Epoch 26/50\n",
      "29/29 [==============================] - 0s 7ms/step - loss: 0.0390 - accuracy: 0.9868 - val_loss: 0.0650 - val_accuracy: 0.9737\n",
      "Epoch 27/50\n",
      "29/29 [==============================] - 0s 9ms/step - loss: 0.0357 - accuracy: 0.9868 - val_loss: 0.0678 - val_accuracy: 0.9737\n",
      "Epoch 28/50\n",
      "29/29 [==============================] - 0s 7ms/step - loss: 0.0342 - accuracy: 0.9890 - val_loss: 0.0704 - val_accuracy: 0.9737\n",
      "Epoch 29/50\n",
      "29/29 [==============================] - 0s 10ms/step - loss: 0.0327 - accuracy: 0.9934 - val_loss: 0.0694 - val_accuracy: 0.9737\n",
      "Epoch 30/50\n",
      "29/29 [==============================] - 0s 7ms/step - loss: 0.0311 - accuracy: 0.9912 - val_loss: 0.0715 - val_accuracy: 0.9825\n",
      "Epoch 31/50\n",
      "29/29 [==============================] - 0s 6ms/step - loss: 0.0292 - accuracy: 0.9912 - val_loss: 0.0748 - val_accuracy: 0.9737\n",
      "Epoch 32/50\n",
      "29/29 [==============================] - 0s 7ms/step - loss: 0.0271 - accuracy: 0.9934 - val_loss: 0.0753 - val_accuracy: 0.9825\n",
      "Epoch 33/50\n",
      "29/29 [==============================] - 0s 7ms/step - loss: 0.0258 - accuracy: 0.9934 - val_loss: 0.0768 - val_accuracy: 0.9737\n",
      "Epoch 34/50\n",
      "29/29 [==============================] - 0s 7ms/step - loss: 0.0244 - accuracy: 0.9934 - val_loss: 0.0769 - val_accuracy: 0.9825\n",
      "Epoch 35/50\n",
      "29/29 [==============================] - 0s 7ms/step - loss: 0.0229 - accuracy: 0.9934 - val_loss: 0.0793 - val_accuracy: 0.9825\n",
      "Epoch 36/50\n",
      "29/29 [==============================] - 0s 6ms/step - loss: 0.0218 - accuracy: 0.9934 - val_loss: 0.0820 - val_accuracy: 0.9737\n",
      "Epoch 37/50\n",
      "29/29 [==============================] - 0s 5ms/step - loss: 0.0208 - accuracy: 0.9934 - val_loss: 0.0824 - val_accuracy: 0.9649\n",
      "Epoch 38/50\n",
      "29/29 [==============================] - 0s 7ms/step - loss: 0.0198 - accuracy: 0.9978 - val_loss: 0.0855 - val_accuracy: 0.9649\n",
      "Epoch 39/50\n",
      "29/29 [==============================] - 0s 5ms/step - loss: 0.0188 - accuracy: 0.9956 - val_loss: 0.0847 - val_accuracy: 0.9737\n",
      "Epoch 40/50\n",
      "29/29 [==============================] - 0s 6ms/step - loss: 0.0181 - accuracy: 0.9956 - val_loss: 0.0880 - val_accuracy: 0.9649\n",
      "Epoch 41/50\n",
      "29/29 [==============================] - 0s 5ms/step - loss: 0.0170 - accuracy: 0.9978 - val_loss: 0.0870 - val_accuracy: 0.9737\n",
      "Epoch 42/50\n",
      "29/29 [==============================] - 0s 6ms/step - loss: 0.0162 - accuracy: 0.9978 - val_loss: 0.0887 - val_accuracy: 0.9737\n",
      "Epoch 43/50\n",
      "29/29 [==============================] - 0s 6ms/step - loss: 0.0159 - accuracy: 0.9956 - val_loss: 0.0885 - val_accuracy: 0.9737\n",
      "Epoch 44/50\n",
      "29/29 [==============================] - 0s 5ms/step - loss: 0.0150 - accuracy: 0.9978 - val_loss: 0.0898 - val_accuracy: 0.9737\n",
      "Epoch 45/50\n",
      "29/29 [==============================] - 0s 5ms/step - loss: 0.0144 - accuracy: 0.9978 - val_loss: 0.0906 - val_accuracy: 0.9737\n",
      "Epoch 46/50\n",
      "29/29 [==============================] - 0s 7ms/step - loss: 0.0136 - accuracy: 0.9978 - val_loss: 0.0939 - val_accuracy: 0.9737\n",
      "Epoch 47/50\n",
      "29/29 [==============================] - 0s 6ms/step - loss: 0.0130 - accuracy: 0.9978 - val_loss: 0.0960 - val_accuracy: 0.9737\n",
      "Epoch 48/50\n",
      "29/29 [==============================] - 0s 5ms/step - loss: 0.0127 - accuracy: 0.9978 - val_loss: 0.0945 - val_accuracy: 0.9737\n",
      "Epoch 49/50\n",
      "29/29 [==============================] - 0s 5ms/step - loss: 0.0122 - accuracy: 0.9978 - val_loss: 0.0992 - val_accuracy: 0.9737\n",
      "Epoch 50/50\n",
      "29/29 [==============================] - 0s 5ms/step - loss: 0.0115 - accuracy: 0.9978 - val_loss: 0.0981 - val_accuracy: 0.9737\n",
      "4/4 [==============================] - 0s 4ms/step - loss: 0.0981 - accuracy: 0.9737\n",
      "\n",
      "\n",
      "Test loss: 0.0981\n",
      "Test accuracy: 97.37%\n",
      "\n",
      "\n"
     ]
    }
   ],
   "source": [
    "# Scale the features\n",
    "scaler = StandardScaler()\n",
    "X_train = scaler.fit_transform(X_train)\n",
    "X_test = scaler.transform(X_test)\n",
    "\n",
    "# Define the model\n",
    "model = Sequential()\n",
    "model.add(Dense(16, input_dim=X_train.shape[1], activation='relu'))\n",
    "model.add(Dense(8, activation='relu'))\n",
    "model.add(Dense(4, activation='relu'))\n",
    "model.add(Dense(1, activation='sigmoid'))\n",
    "\n",
    "# Compile the model\n",
    "model.compile(loss='binary_crossentropy', optimizer='adam', metrics=['accuracy'])\n",
    "\n",
    "# Train the model\n",
    "model.fit(X_train, y_train, epochs=50, batch_size=16, validation_data=(X_test, y_test))\n",
    "\n",
    "# Evaluate the model on the test set\n",
    "loss, opt_nn_accuracy = model.evaluate(X_test, y_test)\n",
    "print(f'\\n\\nTest loss: {loss:.4f}\\nTest accuracy: {opt_nn_accuracy*100:.2f}%\\n\\n')"
   ]
  },
  {
   "cell_type": "code",
   "execution_count": 78,
   "id": "ca8656b8",
   "metadata": {},
   "outputs": [
    {
     "name": "stdout",
     "output_type": "stream",
     "text": [
      "4/4 [==============================] - 0s 3ms/step\n",
      "Optimized Neural Network Accuracy: 98.25%\n",
      "\n",
      "\n",
      "Optimized Neural Network Confusion Matrix:\n",
      "\n",
      "[[70  1]\n",
      " [ 1 42]]\n",
      "\n",
      "\n",
      "Optimized Neural Network Classification Report:\n",
      "\n",
      "              precision    recall  f1-score   support\n",
      "\n",
      "           0       0.99      0.99      0.99        71\n",
      "           1       0.98      0.98      0.98        43\n",
      "\n",
      "    accuracy                           0.98       114\n",
      "   macro avg       0.98      0.98      0.98       114\n",
      "weighted avg       0.98      0.98      0.98       114\n",
      "\n",
      "\n",
      "\n"
     ]
    },
    {
     "data": {
      "image/png": "[encoded data removed]",
      "text/plain": [
       "<Figure size 432x288 with 2 Axes>"
      ]
     },
     "metadata": {
      "needs_background": "light"
     },
     "output_type": "display_data"
    }
   ],
   "source": [
    "# Predict on test set and calculate accuracy\n",
    "y_pred_proba = model.predict(X_test)\n",
    "y_pred_opt_nn = np.round(y_pred_proba).astype(int)\n",
    "\n",
    "# Evaluate the Model\n",
    "opt_nn_prec, opt_nn_accuracy, opt_nn_recall, opt_nn_f1 = evaluate_model(y_test, y_pred_opt_nn, \"Optimized Neural Network\")"
   ]
  },
  {
   "cell_type": "code",
   "execution_count": 101,
   "id": "1b02067f",
   "metadata": {},
   "outputs": [
    {
     "name": "stdout",
     "output_type": "stream",
     "text": [
      "Epoch 1/50\n",
      "29/29 [==============================] - 2s 17ms/step - loss: 0.8532 - accuracy: 0.3714 - val_loss: 0.8036 - val_accuracy: 0.3772\n",
      "Epoch 2/50\n",
      "29/29 [==============================] - 0s 6ms/step - loss: 0.7726 - accuracy: 0.3714 - val_loss: 0.7348 - val_accuracy: 0.3772\n",
      "Epoch 3/50\n",
      "29/29 [==============================] - 0s 5ms/step - loss: 0.7143 - accuracy: 0.3714 - val_loss: 0.6875 - val_accuracy: 0.3772\n",
      "Epoch 4/50\n",
      "29/29 [==============================] - 0s 5ms/step - loss: 0.6728 - accuracy: 0.5385 - val_loss: 0.6546 - val_accuracy: 0.9386\n",
      "Epoch 5/50\n",
      "29/29 [==============================] - 0s 5ms/step - loss: 0.6439 - accuracy: 0.9143 - val_loss: 0.6282 - val_accuracy: 0.9211\n",
      "Epoch 6/50\n",
      "29/29 [==============================] - 0s 6ms/step - loss: 0.6197 - accuracy: 0.9011 - val_loss: 0.6056 - val_accuracy: 0.8860\n",
      "Epoch 7/50\n",
      "29/29 [==============================] - 0s 6ms/step - loss: 0.5975 - accuracy: 0.8791 - val_loss: 0.5824 - val_accuracy: 0.8860\n",
      "Epoch 8/50\n",
      "29/29 [==============================] - 0s 5ms/step - loss: 0.5747 - accuracy: 0.8813 - val_loss: 0.5577 - val_accuracy: 0.8860\n",
      "Epoch 9/50\n",
      "29/29 [==============================] - 0s 6ms/step - loss: 0.5494 - accuracy: 0.9077 - val_loss: 0.5307 - val_accuracy: 0.9211\n",
      "Epoch 10/50\n",
      "29/29 [==============================] - 0s 6ms/step - loss: 0.5221 - accuracy: 0.9253 - val_loss: 0.5011 - val_accuracy: 0.9474\n",
      "Epoch 11/50\n",
      "29/29 [==============================] - 0s 5ms/step - loss: 0.4923 - accuracy: 0.9341 - val_loss: 0.4691 - val_accuracy: 0.9649\n",
      "Epoch 12/50\n",
      "29/29 [==============================] - 0s 5ms/step - loss: 0.4607 - accuracy: 0.9538 - val_loss: 0.4362 - val_accuracy: 0.9649\n",
      "Epoch 13/50\n",
      "29/29 [==============================] - 0s 6ms/step - loss: 0.4281 - accuracy: 0.9582 - val_loss: 0.4036 - val_accuracy: 0.9737\n",
      "Epoch 14/50\n",
      "29/29 [==============================] - 0s 6ms/step - loss: 0.3962 - accuracy: 0.9692 - val_loss: 0.3724 - val_accuracy: 0.9825\n",
      "Epoch 15/50\n",
      "29/29 [==============================] - 0s 5ms/step - loss: 0.3663 - accuracy: 0.9714 - val_loss: 0.3442 - val_accuracy: 0.9912\n",
      "Epoch 16/50\n",
      "29/29 [==============================] - 0s 5ms/step - loss: 0.3391 - accuracy: 0.9758 - val_loss: 0.3181 - val_accuracy: 0.9912\n",
      "Epoch 17/50\n",
      "29/29 [==============================] - 0s 7ms/step - loss: 0.3139 - accuracy: 0.9824 - val_loss: 0.2952 - val_accuracy: 0.9912\n",
      "Epoch 18/50\n",
      "29/29 [==============================] - 0s 7ms/step - loss: 0.2917 - accuracy: 0.9824 - val_loss: 0.2746 - val_accuracy: 0.9912\n",
      "Epoch 19/50\n",
      "29/29 [==============================] - 0s 7ms/step - loss: 0.2716 - accuracy: 0.9824 - val_loss: 0.2564 - val_accuracy: 0.9912\n",
      "Epoch 20/50\n",
      "29/29 [==============================] - 0s 6ms/step - loss: 0.2541 - accuracy: 0.9824 - val_loss: 0.2396 - val_accuracy: 0.9912\n",
      "Epoch 21/50\n",
      "29/29 [==============================] - 0s 6ms/step - loss: 0.2381 - accuracy: 0.9824 - val_loss: 0.2253 - val_accuracy: 0.9912\n",
      "Epoch 22/50\n",
      "29/29 [==============================] - 0s 5ms/step - loss: 0.2240 - accuracy: 0.9824 - val_loss: 0.2123 - val_accuracy: 0.9912\n",
      "Epoch 23/50\n",
      "29/29 [==============================] - 0s 5ms/step - loss: 0.2113 - accuracy: 0.9824 - val_loss: 0.2008 - val_accuracy: 0.9912\n",
      "Epoch 24/50\n",
      "29/29 [==============================] - 0s 7ms/step - loss: 0.1998 - accuracy: 0.9846 - val_loss: 0.1898 - val_accuracy: 0.9912\n",
      "Epoch 25/50\n",
      "29/29 [==============================] - 0s 6ms/step - loss: 0.1896 - accuracy: 0.9824 - val_loss: 0.1803 - val_accuracy: 0.9912\n",
      "Epoch 26/50\n",
      "29/29 [==============================] - 0s 5ms/step - loss: 0.1806 - accuracy: 0.9846 - val_loss: 0.1713 - val_accuracy: 0.9912\n",
      "Epoch 27/50\n",
      "29/29 [==============================] - 0s 6ms/step - loss: 0.1721 - accuracy: 0.9824 - val_loss: 0.1636 - val_accuracy: 0.9912\n",
      "Epoch 28/50\n",
      "29/29 [==============================] - 0s 6ms/step - loss: 0.1641 - accuracy: 0.9868 - val_loss: 0.1559 - val_accuracy: 0.9912\n",
      "Epoch 29/50\n",
      "29/29 [==============================] - 0s 5ms/step - loss: 0.1569 - accuracy: 0.9846 - val_loss: 0.1496 - val_accuracy: 0.9912\n",
      "Epoch 30/50\n",
      "29/29 [==============================] - 0s 6ms/step - loss: 0.1504 - accuracy: 0.9846 - val_loss: 0.1438 - val_accuracy: 0.9912\n",
      "Epoch 31/50\n",
      "29/29 [==============================] - 0s 6ms/step - loss: 0.1444 - accuracy: 0.9846 - val_loss: 0.1375 - val_accuracy: 0.9912\n",
      "Epoch 32/50\n",
      "29/29 [==============================] - 0s 5ms/step - loss: 0.1390 - accuracy: 0.9846 - val_loss: 0.1321 - val_accuracy: 0.9912\n",
      "Epoch 33/50\n",
      "29/29 [==============================] - 0s 5ms/step - loss: 0.1338 - accuracy: 0.9846 - val_loss: 0.1274 - val_accuracy: 0.9912\n",
      "Epoch 34/50\n",
      "29/29 [==============================] - 0s 6ms/step - loss: 0.1292 - accuracy: 0.9846 - val_loss: 0.1228 - val_accuracy: 0.9912\n",
      "Epoch 35/50\n",
      "29/29 [==============================] - 0s 5ms/step - loss: 0.1249 - accuracy: 0.9846 - val_loss: 0.1190 - val_accuracy: 0.9912\n",
      "Epoch 36/50\n",
      "29/29 [==============================] - 0s 6ms/step - loss: 0.1206 - accuracy: 0.9846 - val_loss: 0.1150 - val_accuracy: 0.9912\n",
      "Epoch 37/50\n",
      "29/29 [==============================] - 0s 5ms/step - loss: 0.1167 - accuracy: 0.9890 - val_loss: 0.1115 - val_accuracy: 0.9912\n",
      "Epoch 38/50\n",
      "29/29 [==============================] - 0s 6ms/step - loss: 0.1132 - accuracy: 0.9868 - val_loss: 0.1078 - val_accuracy: 0.9912\n",
      "Epoch 39/50\n",
      "29/29 [==============================] - 0s 7ms/step - loss: 0.1099 - accuracy: 0.9868 - val_loss: 0.1047 - val_accuracy: 0.9912\n",
      "Epoch 40/50\n",
      "29/29 [==============================] - 0s 7ms/step - loss: 0.1068 - accuracy: 0.9868 - val_loss: 0.1023 - val_accuracy: 0.9912\n",
      "Epoch 41/50\n",
      "29/29 [==============================] - 0s 7ms/step - loss: 0.1041 - accuracy: 0.9868 - val_loss: 0.0996 - val_accuracy: 0.9912\n",
      "Epoch 42/50\n",
      "29/29 [==============================] - 0s 5ms/step - loss: 0.1010 - accuracy: 0.9868 - val_loss: 0.0967 - val_accuracy: 0.9912\n",
      "Epoch 43/50\n",
      "29/29 [==============================] - 0s 6ms/step - loss: 0.0983 - accuracy: 0.9890 - val_loss: 0.0942 - val_accuracy: 0.9912\n",
      "Epoch 44/50\n",
      "29/29 [==============================] - 0s 6ms/step - loss: 0.0963 - accuracy: 0.9890 - val_loss: 0.0918 - val_accuracy: 0.9912\n",
      "Epoch 45/50\n",
      "29/29 [==============================] - 0s 5ms/step - loss: 0.0936 - accuracy: 0.9890 - val_loss: 0.0900 - val_accuracy: 0.9912\n",
      "Epoch 46/50\n",
      "29/29 [==============================] - 0s 5ms/step - loss: 0.0915 - accuracy: 0.9868 - val_loss: 0.0880 - val_accuracy: 0.9912\n",
      "Epoch 47/50\n",
      "29/29 [==============================] - 0s 6ms/step - loss: 0.0894 - accuracy: 0.9868 - val_loss: 0.0859 - val_accuracy: 0.9912\n",
      "Epoch 48/50\n",
      "29/29 [==============================] - 0s 6ms/step - loss: 0.0877 - accuracy: 0.9890 - val_loss: 0.0842 - val_accuracy: 0.9912\n",
      "Epoch 49/50\n",
      "29/29 [==============================] - 0s 6ms/step - loss: 0.0856 - accuracy: 0.9890 - val_loss: 0.0827 - val_accuracy: 0.9912\n",
      "Epoch 50/50\n",
      "29/29 [==============================] - 0s 5ms/step - loss: 0.0838 - accuracy: 0.9868 - val_loss: 0.0812 - val_accuracy: 0.9912\n",
      "4/4 [==============================] - 0s 4ms/step - loss: 0.0812 - accuracy: 0.9912\n",
      "\n",
      "\n",
      "Test loss: 0.0812\n",
      "Test accuracy: 99.12%\n",
      "\n",
      "\n"
     ]
    }
   ],
   "source": [
    "# Scale the features\n",
    "scaler = StandardScaler()\n",
    "X_train = scaler.fit_transform(X_train)\n",
    "X_test = scaler.transform(X_test)\n",
    "\n",
    "# Define the model\n",
    "model = Sequential()\n",
    "model.add(Dense(16, input_dim=X_train.shape[1], activation='sigmoid'))\n",
    "model.add(Dense(8, activation='sigmoid'))\n",
    "model.add(Dense(6, activation='sigmoid'))\n",
    "model.add(Dense(1, activation='sigmoid'))\n",
    "\n",
    "# Compile the model\n",
    "model.compile(loss='binary_crossentropy', optimizer='adam', metrics=['accuracy'])\n",
    "\n",
    "# Train the model\n",
    "model.fit(X_train, y_train, epochs=50, batch_size=16, validation_data=(X_test, y_test))\n",
    "\n",
    "# Evaluate the model on the test set\n",
    "loss, opt2_nn_accuracy = model.evaluate(X_test, y_test)\n",
    "print(f'\\n\\nTest loss: {loss:.4f}\\nTest accuracy: {opt2_nn_accuracy*100:.2f}%\\n\\n')"
   ]
  },
  {
   "cell_type": "code",
   "execution_count": 102,
   "id": "94ef15e3",
   "metadata": {},
   "outputs": [
    {
     "name": "stdout",
     "output_type": "stream",
     "text": [
      "4/4 [==============================] - 0s 3ms/step\n",
      "Optimized Neural Network Accuracy: 99.12%\n",
      "\n",
      "\n",
      "Optimized Neural Network Confusion Matrix:\n",
      "\n",
      "[[71  0]\n",
      " [ 1 42]]\n",
      "\n",
      "\n",
      "Optimized Neural Network Classification Report:\n",
      "\n",
      "              precision    recall  f1-score   support\n",
      "\n",
      "           0       0.99      1.00      0.99        71\n",
      "           1       1.00      0.98      0.99        43\n",
      "\n",
      "    accuracy                           0.99       114\n",
      "   macro avg       0.99      0.99      0.99       114\n",
      "weighted avg       0.99      0.99      0.99       114\n",
      "\n",
      "\n",
      "\n"
     ]
    },
    {
     "data": {
      "image/png": "[encoded data removed]",
      "text/plain": [
       "<Figure size 432x288 with 2 Axes>"
      ]
     },
     "metadata": {
      "needs_background": "light"
     },
     "output_type": "display_data"
    }
   ],
   "source": [
    "# Predict on test set and calculate accuracy\n",
    "y_pred_proba = model.predict(X_test)\n",
    "y_pred_opt2_nn = np.round(y_pred_proba).astype(int)\n",
    "\n",
    "# Evaluate the Model\n",
    "opt2_nn_prec, opt2_nn_accuracy, opt2_nn_recall, opt2_nn_f1 = evaluate_model(y_test, y_pred_opt2_nn, \"Optimized Neural Network\")"
   ]
  },
  {
   "cell_type": "markdown",
   "id": "7151c0fb",
   "metadata": {},
   "source": [
    "## Score Comparison "
   ]
  },
  {
   "cell_type": "code",
   "execution_count": 129,
   "id": "d6b4b2cd",
   "metadata": {},
   "outputs": [
    {
     "data": {
      "text/html": [
       "<div>\n",
       "<style scoped>\n",
       "    .dataframe tbody tr th:only-of-type {\n",
       "        vertical-align: middle;\n",
       "    }\n",
       "\n",
       "    .dataframe tbody tr th {\n",
       "        vertical-align: top;\n",
       "    }\n",
       "\n",
       "    .dataframe thead th {\n",
       "        text-align: right;\n",
       "    }\n",
       "</style>\n",
       "<table border=\"1\" class=\"dataframe\">\n",
       "  <thead>\n",
       "    <tr style=\"text-align: right;\">\n",
       "      <th></th>\n",
       "      <th>Models</th>\n",
       "      <th>Accuracy</th>\n",
       "      <th>Precision</th>\n",
       "      <th>Recall</th>\n",
       "      <th>F1-score</th>\n",
       "    </tr>\n",
       "  </thead>\n",
       "  <tbody>\n",
       "    <tr>\n",
       "      <th>0</th>\n",
       "      <td>Rebalanced Logistic Regression</td>\n",
       "      <td>98.25</td>\n",
       "      <td>98.13</td>\n",
       "      <td>98.13</td>\n",
       "      <td>98.13</td>\n",
       "    </tr>\n",
       "    <tr>\n",
       "      <th>1</th>\n",
       "      <td>SVM</td>\n",
       "      <td>98.25</td>\n",
       "      <td>98.63</td>\n",
       "      <td>97.67</td>\n",
       "      <td>98.12</td>\n",
       "    </tr>\n",
       "    <tr>\n",
       "      <th>2</th>\n",
       "      <td>Optimized Neural Network</td>\n",
       "      <td>99.12</td>\n",
       "      <td>99.31</td>\n",
       "      <td>98.84</td>\n",
       "      <td>99.06</td>\n",
       "    </tr>\n",
       "  </tbody>\n",
       "</table>\n",
       "</div>"
      ],
      "text/plain": [
       "                           Models  Accuracy  Precision  Recall  F1-score\n",
       "0  Rebalanced Logistic Regression     98.25      98.13   98.13     98.13\n",
       "1                             SVM     98.25      98.63   97.67     98.12\n",
       "2        Optimized Neural Network     99.12      99.31   98.84     99.06"
      ]
     },
     "execution_count": 129,
     "metadata": {},
     "output_type": "execute_result"
    }
   ],
   "source": [
    "# Create list of models and scores\n",
    "models_list = ['Rebalanced Logistic Regression', 'SVM', 'Optimized Neural Network']\n",
    "accuracy_list = [linreg_accuracy_balance, svm_accuracy, opt2_nn_accuracy]\n",
    "precision_list = [linreg_prec_balance, svm_prec, opt2_nn_prec]\n",
    "recall_list = [linreg_recall_balance, svm_recall, opt2_nn_recall]\n",
    "f1_list = [linreg_f1_balance, svm_f1, opt2_nn_f1]\n",
    "\n",
    "# Create score dataframe\n",
    "score_df = pd.DataFrame({\n",
    "    'Models': models_list,\n",
    "    'Accuracy': accuracy_list,\n",
    "    'Precision': precision_list,\n",
    "    'Recall': recall_list,\n",
    "    'F1-score': f1_list\n",
    "})\n",
    "\n",
    "# Modify numerical columns to be in % with 2 decimal points\n",
    "score_df[['Accuracy', 'Precision', 'Recall', 'F1-score']] = score_df[['Accuracy', 'Precision', 'Recall', 'F1-score']].apply(lambda x: round(x * 100, 2))\n",
    "\n",
    "score_df"
   ]
  },
  {
   "cell_type": "code",
   "execution_count": 130,
   "id": "196a050b",
   "metadata": {},
   "outputs": [
    {
     "data": {
      "image/png": "[encoded data removed]",
      "text/plain": [
       "<Figure size 864x864 with 4 Axes>"
      ]
     },
     "metadata": {
      "needs_background": "light"
     },
     "output_type": "display_data"
    }
   ],
   "source": [
    "# Create a 2x2 plot to compare all the scores\n",
    "fig, axes = plt.subplots(2, 2, figsize=(12, 12))\n",
    "fig.suptitle('Model Performance Metrics Comparison')\n",
    "\n",
    "# Plot Accuracy\n",
    "accuracy_sorted = score_df.sort_values(by='Accuracy', ascending=False)\n",
    "sns.barplot(ax=axes[0, 0], x='Models', y='Accuracy', data=accuracy_sorted)\n",
    "axes[0, 0].set_title('Accuracy')\n",
    "axes[0, 0].set_xticklabels(axes[0, 0].get_xticklabels(), rotation=45, horizontalalignment='right')\n",
    "for i, v in enumerate(accuracy_sorted['Accuracy']):\n",
    "    axes[0, 0].text(i, v, f\"{v}%\", ha='center', va='bottom', fontsize=10)\n",
    "\n",
    "# Plot Precision\n",
    "precision_sorted = score_df.sort_values(by='Precision', ascending=False)\n",
    "sns.barplot(ax=axes[0, 1], x='Models', y='Precision', data=precision_sorted)\n",
    "axes[0, 1].set_title('Precision')\n",
    "axes[0, 1].set_xticklabels(axes[0, 1].get_xticklabels(), rotation=45, horizontalalignment='right')\n",
    "for i, v in enumerate(precision_sorted['Precision']):\n",
    "    axes[0, 1].text(i, v, f\"{v}%\", ha='center', va='bottom', fontsize=10)\n",
    "\n",
    "# Plot Recall\n",
    "recall_sorted = score_df.sort_values(by='Recall', ascending=False)\n",
    "sns.barplot(ax=axes[1, 0], x='Models', y='Recall', data=recall_sorted)\n",
    "axes[1, 0].set_title('Recall')\n",
    "axes[1, 0].set_xticklabels(axes[1, 0].get_xticklabels(), rotation=45, horizontalalignment='right')\n",
    "for i, v in enumerate(recall_sorted['Recall']):\n",
    "    axes[1, 0].text(i, v, f\"{v}%\", ha='center', va='bottom', fontsize=10)\n",
    "\n",
    "# Plot F1-score\n",
    "f1_sorted = score_df.sort_values(by='F1-score', ascending=False)\n",
    "sns.barplot(ax=axes[1, 1], x='Models', y='F1-score', data=f1_sorted)\n",
    "axes[1, 1].set_title('F1-score')\n",
    "axes[1, 1].set_xticklabels(axes[1, 1].get_xticklabels(), rotation=45, horizontalalignment='right')\n",
    "for i, v in enumerate(f1_sorted['F1-score']):\n",
    "    axes[1, 1].text(i, v, f\"{v}%\", ha='center', va='bottom', fontsize=10)\n",
    "\n",
    "plt.tight_layout()\n",
    "plt.show()"
   ]
  }
 ],
 "metadata": {
  "kernelspec": {
   "display_name": "Python 3 (ipykernel)",
   "language": "python",
   "name": "python3"
  },
  "language_info": {
   "codemirror_mode": {
    "name": "ipython",
    "version": 3
   },
   "file_extension": ".py",
   "mimetype": "text/x-python",
   "name": "python",
   "nbconvert_exporter": "python",
   "pygments_lexer": "ipython3",
   "version": "3.9.12"
  }
 },
 "nbformat": 4,
 "nbformat_minor": 5
}
