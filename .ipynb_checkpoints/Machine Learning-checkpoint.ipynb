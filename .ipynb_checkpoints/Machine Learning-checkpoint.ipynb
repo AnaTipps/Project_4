{
 "cells": [
  {
   "cell_type": "code",
   "execution_count": 1,
   "id": "a50ccfc0",
   "metadata": {},
   "outputs": [],
   "source": [
    "# Import Dependencies\n",
    "\n",
    "import numpy as np\n",
    "import pandas as pd\n",
    "from pathlib import Path\n",
    "import seaborn as sns\n",
    "import matplotlib.pyplot as plt\n",
    "import plotly.graph_objs as go\n",
    "\n",
    "from sklearn.metrics import confusion_matrix, balanced_accuracy_score, confusion_matrix, classification_report, accuracy_score\n",
    "from sklearn.linear_model import LogisticRegression\n",
    "# from sklearn.mogit del_selection import train_test_split, GridSearchCV\n",
    "from sklearn.model_selection import train_test_split\n",
    "from sklearn.tree import DecisionTreeClassifier\n",
    "from sklearn.ensemble import RandomForestClassifier\n",
    "from sklearn.preprocessing import StandardScaler\n",
    "from sklearn.svm import SVC\n",
    "\n",
    "# from tensorflow.keras.models import Sequential\n",
    "# from tensorflow.keras.layers import Dense\n",
    "import warnings\n",
    "warnings.filterwarnings('ignore')"
   ]
  },
  {
   "cell_type": "code",
   "execution_count": 2,
   "id": "7b3cdbae",
   "metadata": {},
   "outputs": [],
   "source": [
    "# Define Functions\n",
    "\n",
    "def evaluate_model(test, pred, model_name):\n",
    "    \n",
    "    # Calculate accuracy score\n",
    "    accuracy = accuracy_score(test, pred)\n",
    "    print(f\"{model_name} Accuracy: {round(accuracy*100,2)}%\\n\\n\")\n",
    "\n",
    "    # Generate a confusion matrix\n",
    "    conf_matrix = confusion_matrix(test, pred)\n",
    "    print(f\"{model_name} Confusion Matrix:\\n\\n{conf_matrix}\\n\\n\")\n",
    "\n",
    "    # Generate a classification report\n",
    "    classification = classification_report(test, pred, output_dict=True)\n",
    "    recall = classification['macro avg']['recall']\n",
    "    f1 = classification['macro avg']['f1-score']\n",
    "    prec = classification['macro avg']['precision']\n",
    "\n",
    "\n",
    "    print(f\"{model_name} Classification Report:\\n\\n{classification_report(test, pred)}\\n\\n\")\n",
    "\n",
    "    # Plot the confusion matrix as a heatmap\n",
    "    sns.heatmap(conf_matrix, annot=True, cmap='Blues', fmt='g')\n",
    "    plt.xlabel('Predicted label')\n",
    "    plt.ylabel('True label')\n",
    "    plt.title(f\"{model_name} Confusion Matrix\")\n",
    "    plt.show()\n",
    "\n",
    "    return prec, accuracy, recall, f1\n"
   ]
  },
  {
   "cell_type": "markdown",
   "id": "d8bd7a41",
   "metadata": {},
   "source": [
    "## Data Preparation (Cleaning and Pre-Processing)"
   ]
  },
  {
   "cell_type": "code",
   "execution_count": 3,
   "id": "74d5ec10",
   "metadata": {},
   "outputs": [
    {
     "data": {
      "text/html": [
       "<div>\n",
       "<style scoped>\n",
       "    .dataframe tbody tr th:only-of-type {\n",
       "        vertical-align: middle;\n",
       "    }\n",
       "\n",
       "    .dataframe tbody tr th {\n",
       "        vertical-align: top;\n",
       "    }\n",
       "\n",
       "    .dataframe thead th {\n",
       "        text-align: right;\n",
       "    }\n",
       "</style>\n",
       "<table border=\"1\" class=\"dataframe\">\n",
       "  <thead>\n",
       "    <tr style=\"text-align: right;\">\n",
       "      <th></th>\n",
       "      <th>id</th>\n",
       "      <th>diagnosis</th>\n",
       "      <th>radius_mean</th>\n",
       "      <th>texture_mean</th>\n",
       "      <th>perimeter_mean</th>\n",
       "      <th>area_mean</th>\n",
       "      <th>smoothness_mean</th>\n",
       "      <th>compactness_mean</th>\n",
       "      <th>concavity_mean</th>\n",
       "      <th>concave points_mean</th>\n",
       "      <th>...</th>\n",
       "      <th>radius_worst</th>\n",
       "      <th>texture_worst</th>\n",
       "      <th>perimeter_worst</th>\n",
       "      <th>area_worst</th>\n",
       "      <th>smoothness_worst</th>\n",
       "      <th>compactness_worst</th>\n",
       "      <th>concavity_worst</th>\n",
       "      <th>concave points_worst</th>\n",
       "      <th>symmetry_worst</th>\n",
       "      <th>fractal_dimension_worst</th>\n",
       "    </tr>\n",
       "  </thead>\n",
       "  <tbody>\n",
       "    <tr>\n",
       "      <th>0</th>\n",
       "      <td>842302</td>\n",
       "      <td>M</td>\n",
       "      <td>17.99</td>\n",
       "      <td>10.38</td>\n",
       "      <td>122.80</td>\n",
       "      <td>1001.0</td>\n",
       "      <td>0.11840</td>\n",
       "      <td>0.27760</td>\n",
       "      <td>0.3001</td>\n",
       "      <td>0.14710</td>\n",
       "      <td>...</td>\n",
       "      <td>25.38</td>\n",
       "      <td>17.33</td>\n",
       "      <td>184.60</td>\n",
       "      <td>2019.0</td>\n",
       "      <td>0.1622</td>\n",
       "      <td>0.6656</td>\n",
       "      <td>0.7119</td>\n",
       "      <td>0.2654</td>\n",
       "      <td>0.4601</td>\n",
       "      <td>0.11890</td>\n",
       "    </tr>\n",
       "    <tr>\n",
       "      <th>1</th>\n",
       "      <td>842517</td>\n",
       "      <td>M</td>\n",
       "      <td>20.57</td>\n",
       "      <td>17.77</td>\n",
       "      <td>132.90</td>\n",
       "      <td>1326.0</td>\n",
       "      <td>0.08474</td>\n",
       "      <td>0.07864</td>\n",
       "      <td>0.0869</td>\n",
       "      <td>0.07017</td>\n",
       "      <td>...</td>\n",
       "      <td>24.99</td>\n",
       "      <td>23.41</td>\n",
       "      <td>158.80</td>\n",
       "      <td>1956.0</td>\n",
       "      <td>0.1238</td>\n",
       "      <td>0.1866</td>\n",
       "      <td>0.2416</td>\n",
       "      <td>0.1860</td>\n",
       "      <td>0.2750</td>\n",
       "      <td>0.08902</td>\n",
       "    </tr>\n",
       "    <tr>\n",
       "      <th>2</th>\n",
       "      <td>84300903</td>\n",
       "      <td>M</td>\n",
       "      <td>19.69</td>\n",
       "      <td>21.25</td>\n",
       "      <td>130.00</td>\n",
       "      <td>1203.0</td>\n",
       "      <td>0.10960</td>\n",
       "      <td>0.15990</td>\n",
       "      <td>0.1974</td>\n",
       "      <td>0.12790</td>\n",
       "      <td>...</td>\n",
       "      <td>23.57</td>\n",
       "      <td>25.53</td>\n",
       "      <td>152.50</td>\n",
       "      <td>1709.0</td>\n",
       "      <td>0.1444</td>\n",
       "      <td>0.4245</td>\n",
       "      <td>0.4504</td>\n",
       "      <td>0.2430</td>\n",
       "      <td>0.3613</td>\n",
       "      <td>0.08758</td>\n",
       "    </tr>\n",
       "    <tr>\n",
       "      <th>3</th>\n",
       "      <td>84348301</td>\n",
       "      <td>M</td>\n",
       "      <td>11.42</td>\n",
       "      <td>20.38</td>\n",
       "      <td>77.58</td>\n",
       "      <td>386.1</td>\n",
       "      <td>0.14250</td>\n",
       "      <td>0.28390</td>\n",
       "      <td>0.2414</td>\n",
       "      <td>0.10520</td>\n",
       "      <td>...</td>\n",
       "      <td>14.91</td>\n",
       "      <td>26.50</td>\n",
       "      <td>98.87</td>\n",
       "      <td>567.7</td>\n",
       "      <td>0.2098</td>\n",
       "      <td>0.8663</td>\n",
       "      <td>0.6869</td>\n",
       "      <td>0.2575</td>\n",
       "      <td>0.6638</td>\n",
       "      <td>0.17300</td>\n",
       "    </tr>\n",
       "    <tr>\n",
       "      <th>4</th>\n",
       "      <td>84358402</td>\n",
       "      <td>M</td>\n",
       "      <td>20.29</td>\n",
       "      <td>14.34</td>\n",
       "      <td>135.10</td>\n",
       "      <td>1297.0</td>\n",
       "      <td>0.10030</td>\n",
       "      <td>0.13280</td>\n",
       "      <td>0.1980</td>\n",
       "      <td>0.10430</td>\n",
       "      <td>...</td>\n",
       "      <td>22.54</td>\n",
       "      <td>16.67</td>\n",
       "      <td>152.20</td>\n",
       "      <td>1575.0</td>\n",
       "      <td>0.1374</td>\n",
       "      <td>0.2050</td>\n",
       "      <td>0.4000</td>\n",
       "      <td>0.1625</td>\n",
       "      <td>0.2364</td>\n",
       "      <td>0.07678</td>\n",
       "    </tr>\n",
       "  </tbody>\n",
       "</table>\n",
       "<p>5 rows × 32 columns</p>\n",
       "</div>"
      ],
      "text/plain": [
       "         id diagnosis  radius_mean  texture_mean  perimeter_mean  area_mean  \\\n",
       "0    842302         M        17.99         10.38          122.80     1001.0   \n",
       "1    842517         M        20.57         17.77          132.90     1326.0   \n",
       "2  84300903         M        19.69         21.25          130.00     1203.0   \n",
       "3  84348301         M        11.42         20.38           77.58      386.1   \n",
       "4  84358402         M        20.29         14.34          135.10     1297.0   \n",
       "\n",
       "   smoothness_mean  compactness_mean  concavity_mean  concave points_mean  \\\n",
       "0          0.11840           0.27760          0.3001              0.14710   \n",
       "1          0.08474           0.07864          0.0869              0.07017   \n",
       "2          0.10960           0.15990          0.1974              0.12790   \n",
       "3          0.14250           0.28390          0.2414              0.10520   \n",
       "4          0.10030           0.13280          0.1980              0.10430   \n",
       "\n",
       "   ...  radius_worst  texture_worst  perimeter_worst  area_worst  \\\n",
       "0  ...         25.38          17.33           184.60      2019.0   \n",
       "1  ...         24.99          23.41           158.80      1956.0   \n",
       "2  ...         23.57          25.53           152.50      1709.0   \n",
       "3  ...         14.91          26.50            98.87       567.7   \n",
       "4  ...         22.54          16.67           152.20      1575.0   \n",
       "\n",
       "   smoothness_worst  compactness_worst  concavity_worst  concave points_worst  \\\n",
       "0            0.1622             0.6656           0.7119                0.2654   \n",
       "1            0.1238             0.1866           0.2416                0.1860   \n",
       "2            0.1444             0.4245           0.4504                0.2430   \n",
       "3            0.2098             0.8663           0.6869                0.2575   \n",
       "4            0.1374             0.2050           0.4000                0.1625   \n",
       "\n",
       "   symmetry_worst  fractal_dimension_worst  \n",
       "0          0.4601                  0.11890  \n",
       "1          0.2750                  0.08902  \n",
       "2          0.3613                  0.08758  \n",
       "3          0.6638                  0.17300  \n",
       "4          0.2364                  0.07678  \n",
       "\n",
       "[5 rows x 32 columns]"
      ]
     },
     "execution_count": 3,
     "metadata": {},
     "output_type": "execute_result"
    }
   ],
   "source": [
    "# Read in the CSV file\n",
    "breast_cancer_data = pd.read_csv('Resource/cancer_data.csv', usecols=lambda col: col != 'Unnamed: 32')\n",
    "\n",
    "# Display the first few rows of the DataFrame\n",
    "breast_cancer_data.head()"
   ]
  },
  {
   "cell_type": "code",
   "execution_count": 4,
   "id": "0d7b008a",
   "metadata": {},
   "outputs": [
    {
     "name": "stdout",
     "output_type": "stream",
     "text": [
      "<class 'pandas.core.frame.DataFrame'>\n",
      "RangeIndex: 569 entries, 0 to 568\n",
      "Data columns (total 31 columns):\n",
      " #   Column                   Non-Null Count  Dtype  \n",
      "---  ------                   --------------  -----  \n",
      " 0   diagnosis                569 non-null    object \n",
      " 1   radius_mean              569 non-null    float64\n",
      " 2   texture_mean             569 non-null    float64\n",
      " 3   perimeter_mean           569 non-null    float64\n",
      " 4   area_mean                569 non-null    float64\n",
      " 5   smoothness_mean          569 non-null    float64\n",
      " 6   compactness_mean         569 non-null    float64\n",
      " 7   concavity_mean           569 non-null    float64\n",
      " 8   concave points_mean      569 non-null    float64\n",
      " 9   symmetry_mean            569 non-null    float64\n",
      " 10  fractal_dimension_mean   569 non-null    float64\n",
      " 11  radius_se                569 non-null    float64\n",
      " 12  texture_se               569 non-null    float64\n",
      " 13  perimeter_se             569 non-null    float64\n",
      " 14  area_se                  569 non-null    float64\n",
      " 15  smoothness_se            569 non-null    float64\n",
      " 16  compactness_se           569 non-null    float64\n",
      " 17  concavity_se             569 non-null    float64\n",
      " 18  concave points_se        569 non-null    float64\n",
      " 19  symmetry_se              569 non-null    float64\n",
      " 20  fractal_dimension_se     569 non-null    float64\n",
      " 21  radius_worst             569 non-null    float64\n",
      " 22  texture_worst            569 non-null    float64\n",
      " 23  perimeter_worst          569 non-null    float64\n",
      " 24  area_worst               569 non-null    float64\n",
      " 25  smoothness_worst         569 non-null    float64\n",
      " 26  compactness_worst        569 non-null    float64\n",
      " 27  concavity_worst          569 non-null    float64\n",
      " 28  concave points_worst     569 non-null    float64\n",
      " 29  symmetry_worst           569 non-null    float64\n",
      " 30  fractal_dimension_worst  569 non-null    float64\n",
      "dtypes: float64(30), object(1)\n",
      "memory usage: 137.9+ KB\n"
     ]
    }
   ],
   "source": [
    "# Drop the non-beneficial ID columns, 'id'\n",
    "breast_cancer_data = breast_cancer_data.drop(columns = ['id'])\n",
    "\n",
    "# Print the data types of each column\n",
    "breast_cancer_data.info()"
   ]
  },
  {
   "cell_type": "code",
   "execution_count": 5,
   "id": "907d56b4",
   "metadata": {
    "scrolled": false
   },
   "outputs": [
    {
     "name": "stdout",
     "output_type": "stream",
     "text": [
      "diagnosis                    2\n",
      "radius_mean                456\n",
      "texture_mean               479\n",
      "perimeter_mean             522\n",
      "area_mean                  539\n",
      "smoothness_mean            474\n",
      "compactness_mean           537\n",
      "concavity_mean             537\n",
      "concave points_mean        542\n",
      "symmetry_mean              432\n",
      "fractal_dimension_mean     499\n",
      "radius_se                  540\n",
      "texture_se                 519\n",
      "perimeter_se               533\n",
      "area_se                    528\n",
      "smoothness_se              547\n",
      "compactness_se             541\n",
      "concavity_se               533\n",
      "concave points_se          507\n",
      "symmetry_se                498\n",
      "fractal_dimension_se       545\n",
      "radius_worst               457\n",
      "texture_worst              511\n",
      "perimeter_worst            514\n",
      "area_worst                 544\n",
      "smoothness_worst           411\n",
      "compactness_worst          529\n",
      "concavity_worst            539\n",
      "concave points_worst       492\n",
      "symmetry_worst             500\n",
      "fractal_dimension_worst    535\n",
      "dtype: int64\n"
     ]
    }
   ],
   "source": [
    "# Determine the number of unique values in each column.\n",
    "unique_value_counts = breast_cancer_data.nunique()\n",
    "print(unique_value_counts)"
   ]
  },
  {
   "cell_type": "code",
   "execution_count": 6,
   "id": "384b6911",
   "metadata": {},
   "outputs": [
    {
     "data": {
      "text/plain": [
       "B    357\n",
       "M    212\n",
       "Name: diagnosis, dtype: int64"
      ]
     },
     "execution_count": 6,
     "metadata": {},
     "output_type": "execute_result"
    }
   ],
   "source": [
    "# Check the Target Class frequency\n",
    "breast_cancer_data['diagnosis'].value_counts()"
   ]
  },
  {
   "cell_type": "code",
   "execution_count": 7,
   "id": "2dd69607",
   "metadata": {},
   "outputs": [],
   "source": [
    "# Drop the 'id' column and set the diagnosis column as the target variable\n",
    "X = breast_cancer_data.drop(columns=['diagnosis'])\n",
    "y = breast_cancer_data['diagnosis'].map({'M': 1, 'B': 0})\n",
    "\n",
    "# Split the data into training and testing sets\n",
    "X_train, X_test, y_train, y_test = train_test_split(X, y, test_size=0.2, random_state=42)\n"
   ]
  },
  {
   "cell_type": "code",
   "execution_count": 8,
   "id": "5793502e",
   "metadata": {},
   "outputs": [],
   "source": [
    "# Creating StandardScaler instance\n",
    "scaler = StandardScaler()"
   ]
  },
  {
   "cell_type": "code",
   "execution_count": 9,
   "id": "0e225c3c",
   "metadata": {},
   "outputs": [],
   "source": [
    "# Fitting Standard Scaller\n",
    "X_scaler = scaler.fit(X_train)\n"
   ]
  },
  {
   "cell_type": "code",
   "execution_count": 10,
   "id": "5ca16bd7",
   "metadata": {},
   "outputs": [],
   "source": [
    "# Scaling data\n",
    "X_train_scaled = X_scaler.transform(X_train)\n",
    "X_test_scaled = X_scaler.transform(X_test)"
   ]
  },
  {
   "cell_type": "code",
   "execution_count": null,
   "id": "600a558a",
   "metadata": {},
   "outputs": [],
   "source": []
  },
  {
   "cell_type": "code",
   "execution_count": null,
   "id": "40e2253a",
   "metadata": {},
   "outputs": [],
   "source": []
  },
  {
   "cell_type": "markdown",
   "id": "12a91866",
   "metadata": {},
   "source": [
    " ## Random Forest Model"
   ]
  },
  {
   "cell_type": "code",
   "execution_count": 11,
   "id": "1d3493d9",
   "metadata": {},
   "outputs": [],
   "source": [
    "# Create a random forest classifier\n",
    "rf_model = RandomForestClassifier(n_estimators=500, random_state=42)"
   ]
  },
  {
   "cell_type": "code",
   "execution_count": 12,
   "id": "a472ec6a",
   "metadata": {},
   "outputs": [],
   "source": [
    "# Fitting the model\n",
    "rf_model = rf_model.fit(X_train_scaled, y_train)"
   ]
  },
  {
   "cell_type": "markdown",
   "id": "2429b6a0",
   "metadata": {},
   "source": [
    "## Making Predictions Using the Random Forest Model"
   ]
  },
  {
   "cell_type": "code",
   "execution_count": 13,
   "id": "4751e3cf",
   "metadata": {},
   "outputs": [],
   "source": [
    "# Making predictions using the testing data\n",
    "predictions = rf_model.predict(X_test_scaled)"
   ]
  },
  {
   "cell_type": "markdown",
   "id": "aefebf06",
   "metadata": {},
   "source": [
    "## Model Evaluation"
   ]
  },
  {
   "cell_type": "code",
   "execution_count": 14,
   "id": "4151b096",
   "metadata": {},
   "outputs": [],
   "source": [
    "# Calculating the confusion matrix\n",
    "cm = confusion_matrix(y_test, predictions)\n",
    "cm_df = pd.DataFrame(\n",
    "    cm, index=[\"Predicted 0\", \"Predicted 1\"], columns=[\" Actual 0\", \"Actual 1\"]\n",
    ")\n",
    "\n",
    "# Calculating the accuracy score\n",
    "acc_score = accuracy_score(y_test, predictions)"
   ]
  },
  {
   "cell_type": "code",
   "execution_count": 15,
   "id": "40404057",
   "metadata": {},
   "outputs": [
    {
     "name": "stdout",
     "output_type": "stream",
     "text": [
      "Confusion Matrix\n"
     ]
    },
    {
     "data": {
      "text/html": [
       "<div>\n",
       "<style scoped>\n",
       "    .dataframe tbody tr th:only-of-type {\n",
       "        vertical-align: middle;\n",
       "    }\n",
       "\n",
       "    .dataframe tbody tr th {\n",
       "        vertical-align: top;\n",
       "    }\n",
       "\n",
       "    .dataframe thead th {\n",
       "        text-align: right;\n",
       "    }\n",
       "</style>\n",
       "<table border=\"1\" class=\"dataframe\">\n",
       "  <thead>\n",
       "    <tr style=\"text-align: right;\">\n",
       "      <th></th>\n",
       "      <th>Actual 0</th>\n",
       "      <th>Actual 1</th>\n",
       "    </tr>\n",
       "  </thead>\n",
       "  <tbody>\n",
       "    <tr>\n",
       "      <th>Predicted 0</th>\n",
       "      <td>70</td>\n",
       "      <td>1</td>\n",
       "    </tr>\n",
       "    <tr>\n",
       "      <th>Predicted 1</th>\n",
       "      <td>3</td>\n",
       "      <td>40</td>\n",
       "    </tr>\n",
       "  </tbody>\n",
       "</table>\n",
       "</div>"
      ],
      "text/plain": [
       "              Actual 0  Actual 1\n",
       "Predicted 0         70         1\n",
       "Predicted 1          3        40"
      ]
     },
     "metadata": {},
     "output_type": "display_data"
    },
    {
     "name": "stdout",
     "output_type": "stream",
     "text": [
      "Accuracy Score : 0.9649122807017544\n",
      "Classification Report\n",
      "              precision    recall  f1-score   support\n",
      "\n",
      "           0       0.96      0.99      0.97        71\n",
      "           1       0.98      0.93      0.95        43\n",
      "\n",
      "    accuracy                           0.96       114\n",
      "   macro avg       0.97      0.96      0.96       114\n",
      "weighted avg       0.97      0.96      0.96       114\n",
      "\n"
     ]
    }
   ],
   "source": [
    "# Displaying results\n",
    "print(\"Confusion Matrix\")\n",
    "display(cm_df)\n",
    "print(f\"Accuracy Score : {acc_score}\")\n",
    "print(\"Classification Report\")\n",
    "print(classification_report(y_test, predictions))"
   ]
  },
  {
   "cell_type": "markdown",
   "id": "75f9ad85",
   "metadata": {},
   "source": [
    "## Feature Importance"
   ]
  },
  {
   "cell_type": "code",
   "execution_count": 16,
   "id": "abe3d32f",
   "metadata": {},
   "outputs": [
    {
     "data": {
      "text/plain": [
       "[(0.13971333981326875, 'concave points_worst'),\n",
       " (0.12244813320331961, 'area_worst'),\n",
       " (0.11533220743928123, 'concave points_mean'),\n",
       " (0.11441049172818418, 'perimeter_worst'),\n",
       " (0.08250625427779008, 'radius_worst'),\n",
       " (0.051091160395859585, 'concavity_mean'),\n",
       " (0.04706475687207926, 'radius_mean'),\n",
       " (0.041768943622206234, 'perimeter_mean'),\n",
       " (0.040207440805062056, 'area_mean'),\n",
       " (0.03843478553502979, 'concavity_worst'),\n",
       " (0.029796888704994265, 'area_se'),\n",
       " (0.02100639840135993, 'texture_worst'),\n",
       " (0.016963074265710348, 'radius_se'),\n",
       " (0.016359326862804082, 'texture_mean'),\n",
       " (0.015939294523398435, 'compactness_worst'),\n",
       " (0.013318967818411364, 'symmetry_worst'),\n",
       " (0.01310910823606547, 'smoothness_worst'),\n",
       " (0.012101887153474402, 'compactness_mean'),\n",
       " (0.010395285249577283, 'perimeter_se'),\n",
       " (0.007545928120234165, 'concavity_se'),\n",
       " (0.007518062679254841, 'smoothness_mean'),\n",
       " (0.0061489633752481775, 'fractal_dimension_se'),\n",
       " (0.0058993364823716, 'fractal_dimension_worst'),\n",
       " (0.005323849038562246, 'compactness_se'),\n",
       " (0.004979756978372231, 'symmetry_se'),\n",
       " (0.004723438579581869, 'fractal_dimension_mean'),\n",
       " (0.0045157165250521575, 'concave points_se'),\n",
       " (0.004404533130902704, 'texture_se'),\n",
       " (0.003570340625580548, 'symmetry_mean'),\n",
       " (0.0034023295569631977, 'smoothness_se')]"
      ]
     },
     "execution_count": 16,
     "metadata": {},
     "output_type": "execute_result"
    }
   ],
   "source": [
    "# Random Forests in sklearn will automatically calculate feature importance\n",
    "importances = rf_model.feature_importances_\n",
    "# We can sort the features by their importance\n",
    "sorted(zip(rf_model.feature_importances_, X.columns), reverse=True)"
   ]
  },
  {
   "cell_type": "code",
   "execution_count": 17,
   "id": "2c7f2c72",
   "metadata": {},
   "outputs": [
    {
     "data": {
      "text/plain": [
       "<Axes: title={'center': 'Features Importances'}, ylabel='1'>"
      ]
     },
     "execution_count": 17,
     "metadata": {},
     "output_type": "execute_result"
    },
    {
     "data": {
      "image/png": "[encoded data removed]",
      "text/plain": [
       "<Figure size 640x480 with 1 Axes>"
      ]
     },
     "metadata": {},
     "output_type": "display_data"
    }
   ],
   "source": [
    "# Visualize the features by importance\n",
    "importances_df = pd.DataFrame(sorted(zip(rf_model.feature_importances_, X.columns), reverse=True))\n",
    "importances_df.set_index(importances_df[1], inplace=True)\n",
    "importances_df.drop(columns=1, inplace=True)\n",
    "importances_df.rename(columns={0: 'Feature Importances'}, inplace=True)\n",
    "importances_sorted = importances_df.sort_values(by='Feature Importances')\n",
    "importances_sorted.plot(kind='barh', color='lightgreen', title= 'Features Importances', legend=False)"
   ]
  },
  {
   "cell_type": "code",
   "execution_count": null,
   "id": "9bea9088",
   "metadata": {},
   "outputs": [],
   "source": []
  },
  {
   "cell_type": "code",
   "execution_count": null,
   "id": "82d25372",
   "metadata": {},
   "outputs": [],
   "source": []
  },
  {
   "cell_type": "markdown",
   "id": "639c2e5d",
   "metadata": {},
   "source": [
    "## Decision Tree Model"
   ]
  },
  {
   "cell_type": "code",
   "execution_count": 20,
   "id": "dfe90d69",
   "metadata": {},
   "outputs": [],
   "source": [
    "# Creating the decision tree classifier instance\n",
    "from sklearn import tree\n",
    "model = tree.DecisionTreeClassifier()"
   ]
  },
  {
   "cell_type": "code",
   "execution_count": 21,
   "id": "e724dd54",
   "metadata": {},
   "outputs": [],
   "source": [
    "# Fitting the model\n",
    "model = model.fit(X_train_scaled, y_train)"
   ]
  },
  {
   "cell_type": "markdown",
   "id": "bc6b0bd8",
   "metadata": {},
   "source": [
    "## Making Predictions Using the Tree Model\n"
   ]
  },
  {
   "cell_type": "code",
   "execution_count": 22,
   "id": "06f8c811",
   "metadata": {},
   "outputs": [],
   "source": [
    "# Making predictions using the testing data\n",
    "predictions = model.predict(X_test_scaled)"
   ]
  },
  {
   "cell_type": "markdown",
   "id": "fd4f677c",
   "metadata": {},
   "source": [
    "## Model Evaluation"
   ]
  },
  {
   "cell_type": "code",
   "execution_count": 23,
   "id": "b4e902d0",
   "metadata": {},
   "outputs": [],
   "source": [
    "# Calculating the confusion matrix\n",
    "cm = confusion_matrix(y_test, predictions)\n",
    "cm_df = pd.DataFrame(\n",
    "    cm, index=[\"Predicted 0\", \"Predicted 1\"], columns=[\" Actual 0\", \"Actual 1\"])\n",
    "\n",
    "\n",
    "# Calculating the accuracy score\n",
    "acc_score = accuracy_score(y_test, predictions)"
   ]
  },
  {
   "cell_type": "code",
   "execution_count": 24,
   "id": "84201647",
   "metadata": {},
   "outputs": [
    {
     "name": "stdout",
     "output_type": "stream",
     "text": [
      "Confusion Matrix\n"
     ]
    },
    {
     "data": {
      "text/html": [
       "<div>\n",
       "<style scoped>\n",
       "    .dataframe tbody tr th:only-of-type {\n",
       "        vertical-align: middle;\n",
       "    }\n",
       "\n",
       "    .dataframe tbody tr th {\n",
       "        vertical-align: top;\n",
       "    }\n",
       "\n",
       "    .dataframe thead th {\n",
       "        text-align: right;\n",
       "    }\n",
       "</style>\n",
       "<table border=\"1\" class=\"dataframe\">\n",
       "  <thead>\n",
       "    <tr style=\"text-align: right;\">\n",
       "      <th></th>\n",
       "      <th>Actual 0</th>\n",
       "      <th>Actual 1</th>\n",
       "    </tr>\n",
       "  </thead>\n",
       "  <tbody>\n",
       "    <tr>\n",
       "      <th>Predicted 0</th>\n",
       "      <td>67</td>\n",
       "      <td>4</td>\n",
       "    </tr>\n",
       "    <tr>\n",
       "      <th>Predicted 1</th>\n",
       "      <td>3</td>\n",
       "      <td>40</td>\n",
       "    </tr>\n",
       "  </tbody>\n",
       "</table>\n",
       "</div>"
      ],
      "text/plain": [
       "              Actual 0  Actual 1\n",
       "Predicted 0         67         4\n",
       "Predicted 1          3        40"
      ]
     },
     "metadata": {},
     "output_type": "display_data"
    },
    {
     "name": "stdout",
     "output_type": "stream",
     "text": [
      "Accuracy Score : 0.9385964912280702\n",
      "Classification Report\n",
      "              precision    recall  f1-score   support\n",
      "\n",
      "           0       0.96      0.94      0.95        71\n",
      "           1       0.91      0.93      0.92        43\n",
      "\n",
      "    accuracy                           0.94       114\n",
      "   macro avg       0.93      0.94      0.93       114\n",
      "weighted avg       0.94      0.94      0.94       114\n",
      "\n"
     ]
    }
   ],
   "source": [
    "# Displaying results\n",
    "print(\"Confusion Matrix\")\n",
    "display(cm_df)\n",
    "print(f\"Accuracy Score : {acc_score}\")\n",
    "print(\"Classification Report\")\n",
    "print(classification_report(y_test, predictions))"
   ]
  },
  {
   "cell_type": "markdown",
   "id": "cdd3d803",
   "metadata": {},
   "source": [
    "Compared to the Random Forest this model gets more false negatives. Four cells have been identified as begnin when they are actually maligant. Whereas the Random Forest had only 1 false negative result. "
   ]
  },
  {
   "cell_type": "markdown",
   "id": "68991b83",
   "metadata": {},
   "source": [
    "## Logistic Regression using original data "
   ]
  },
  {
   "cell_type": "code",
   "execution_count": null,
   "id": "ad0d6c14",
   "metadata": {},
   "outputs": [],
   "source": [
    "# Create a Logistic Regression model with a higher maximum number of iterations\n",
    "logreg = LogisticRegression(max_iter=5000)\n",
    "\n",
    "# Fit the model to the breast cancer data\n",
    "logreg.fit(X_train, y_train)\n"
   ]
  },
  {
   "cell_type": "code",
   "execution_count": null,
   "id": "6f7be0f7",
   "metadata": {
    "scrolled": true
   },
   "outputs": [],
   "source": [
    "# Predict on test set and calculate accuracy\n",
    "y_pred_log = logreg.predict(X_test)\n",
    "\n",
    "# Evaluate the Model\n",
    "linreg_prec, linreg_accuracy, linreg_recall, linreg_f1 = evaluate_model(y_test, y_pred_log, \"Logistic Regression\")\n"
   ]
  },
  {
   "cell_type": "markdown",
   "id": "ec0b2090",
   "metadata": {},
   "source": [
    "True Negatives: 70\n",
    "    \n",
    "False Positives: 1\n",
    "    \n",
    "False Negatives: 4\n",
    "    \n",
    "True Positives: 39"
   ]
  },
  {
   "cell_type": "markdown",
   "id": "5dbf3a5c",
   "metadata": {},
   "source": [
    "## Logistic Regression Model with Resampled Training Data\n",
    "\n",
    "### Step 1: Use the RandomOverSampler module from the imbalanced-learn library to resample the data. Be sure to confirm that the labels have an equal number of data points.\n"
   ]
  },
  {
   "cell_type": "code",
   "execution_count": null,
   "id": "d701b362",
   "metadata": {},
   "outputs": [],
   "source": [
    "# Import the RandomOverSampler module form imbalanced-learn\n",
    "from imblearn.over_sampling import RandomOverSampler"
   ]
  },
  {
   "cell_type": "code",
   "execution_count": null,
   "id": "b1e40365",
   "metadata": {},
   "outputs": [],
   "source": [
    "# Instantiate the random oversampler model\n",
    "# # Assign a random_state parameter of 1 to the model\n",
    "random_oversampler_model = RandomOverSampler(random_state = 1)"
   ]
  },
  {
   "cell_type": "code",
   "execution_count": null,
   "id": "33ec358c",
   "metadata": {},
   "outputs": [],
   "source": [
    "# Fit the original training data to the random_oversampler model\n",
    "X_rsample, y_rsample = random_oversampler_model.fit_resample(X_train, y_train)\n",
    "# Count the distinct values of the resampled labels data\n",
    "y_rsample.value_counts()"
   ]
  },
  {
   "cell_type": "markdown",
   "id": "76d183e7",
   "metadata": {},
   "source": [
    "### Step 2: Use the LogisticRegression classifier and the resampled data to fit the model and make predictions."
   ]
  },
  {
   "cell_type": "code",
   "execution_count": null,
   "id": "e18d3563",
   "metadata": {},
   "outputs": [],
   "source": [
    "# Instantiate the Logistic Regression model\n",
    "# Assign a random_state parameter of 1 to the model\n",
    "sample_classifier = LogisticRegression(solver='lbfgs', random_state=1)\n",
    "\n",
    "# Fit the model using training data\n",
    "sample_classifier.fit(X_rsample, y_rsample)\n",
    "\n",
    "# Make a prediction using the testing data\n",
    "y_pred_log_balance = sample_classifier.predict(X_test)\n",
    "pd.DataFrame({\"Prediction\": y_pred_log_balance, \"Actual\": y_test}).head()"
   ]
  },
  {
   "cell_type": "markdown",
   "id": "a540f9db",
   "metadata": {},
   "source": [
    "### Step 3: Evaluate the model’s performance by doing the following:\n",
    "\n",
    "* Calculate the accuracy score of the model.\n",
    "\n",
    "* Generate a confusion matrix.\n",
    "\n",
    "* Print the classification report."
   ]
  },
  {
   "cell_type": "code",
   "execution_count": null,
   "id": "512fbe03",
   "metadata": {},
   "outputs": [],
   "source": [
    "# Predict on test set and calculate accuracy\n",
    "y_pred_log_balance = sample_classifier.predict(X_test)\n",
    "\n",
    "# Evaluate the Model\n",
    "linreg_prec_balance, linreg_accuracy_balance, linreg_recall_balance, linreg_f1_balance = evaluate_model(y_test, y_pred_log_balance, \"Logistic Regression\")"
   ]
  },
  {
   "cell_type": "markdown",
   "id": "38da5f67",
   "metadata": {},
   "source": [
    "## Support Vector Machine (SVM) using the 'linear' basis function kernel (\"rbf\")"
   ]
  },
  {
   "cell_type": "code",
   "execution_count": null,
   "id": "022ce427",
   "metadata": {},
   "outputs": [],
   "source": [
    "# Initialize and fit SVM model\n",
    "svmL = SVC(kernel='linear')\n",
    "svmL.fit(X_train, y_train)"
   ]
  },
  {
   "cell_type": "code",
   "execution_count": null,
   "id": "39db33cc",
   "metadata": {},
   "outputs": [],
   "source": [
    "# Predict on test set and calculate accuracy\n",
    "y_pred_svmL = svm.predict(X_test)\n",
    "\n",
    "# Evaluate the model\n",
    "svm_precL, svm_accuracyL, svm_recallL, svm_f1L = evaluate_model(y_test, y_pred_svmL, \"SVM\")\n"
   ]
  },
  {
   "cell_type": "markdown",
   "id": "c7086c74",
   "metadata": {},
   "source": [
    "## Support Vector Machine (SVM) using the radial basis function kernel (\"rbf\")"
   ]
  },
  {
   "cell_type": "code",
   "execution_count": null,
   "id": "f8f2c668",
   "metadata": {},
   "outputs": [],
   "source": [
    "# Initialize and fit SVM model\n",
    "svm = SVC(kernel='rbf')\n",
    "svm.fit(X_train, y_train)\n"
   ]
  },
  {
   "cell_type": "code",
   "execution_count": null,
   "id": "dbd552da",
   "metadata": {},
   "outputs": [],
   "source": [
    "# Predict on test set and calculate accuracy\n",
    "y_pred_svm = svm.predict(X_test)\n",
    "\n",
    "# Evaluate the model\n",
    "svm_prec, svm_accuracy, svm_recall, svm_f1 = evaluate_model(y_test, y_pred_svm, \"SVM\")\n"
   ]
  },
  {
   "cell_type": "markdown",
   "id": "e4a40be8",
   "metadata": {},
   "source": [
    "## Neural Networks"
   ]
  },
  {
   "cell_type": "code",
   "execution_count": null,
   "id": "c5195791",
   "metadata": {
    "scrolled": false
   },
   "outputs": [],
   "source": [
    "# Define the model\n",
    "model = Sequential()\n",
    "model.add(Dense(8, input_dim=X_train.shape[1], activation='relu'))\n",
    "model.add(Dense(2, activation='relu'))\n",
    "model.add(Dense(1, activation='sigmoid'))\n",
    "\n",
    "# Compile the model\n",
    "model.compile(loss='binary_crossentropy', optimizer='adam', metrics=['accuracy'])\n",
    "\n",
    "# Train the model\n",
    "model.fit(X_train, y_train, epochs=10, batch_size=16, validation_data=(X_test, y_test))\n",
    "\n",
    "# Evaluate the model on the test set\n",
    "loss, nn_accuracy = model.evaluate(X_test, y_test)\n",
    "print(f'\\n\\nTest loss: {loss:.4f}\\nTest accuracy: {nn_accuracy*100:.2f}%\\n\\n')"
   ]
  },
  {
   "cell_type": "code",
   "execution_count": null,
   "id": "1c36dbec",
   "metadata": {
    "scrolled": true
   },
   "outputs": [],
   "source": [
    "# Predict on test set and calculate accuracy\n",
    "y_pred_proba = model.predict(X_test)\n",
    "y_pred_nn = np.round(y_pred_proba).astype(int)\n",
    "\n",
    "\n",
    "# Evaluate the Model\n",
    "\n",
    "nn_prec, nn_accuracy, nn_recall, nn_f1 = evaluate_model(y_test, y_pred_nn, \"Neural Network\")\n"
   ]
  },
  {
   "cell_type": "markdown",
   "id": "a1e2bdd5",
   "metadata": {},
   "source": [
    "True Negatives: 53\n",
    "\n",
    "False Positives: 18\n",
    "\n",
    "False Negatives: 4\n",
    "\n",
    "True Positives: 39"
   ]
  },
  {
   "cell_type": "markdown",
   "id": "d404d7f0",
   "metadata": {},
   "source": [
    "## Optimized Neural Network 1.1"
   ]
  },
  {
   "cell_type": "code",
   "execution_count": null,
   "id": "0b4061b6",
   "metadata": {},
   "outputs": [],
   "source": [
    "# Scale the features\n",
    "scaler = StandardScaler()\n",
    "X_train = scaler.fit_transform(X_train)\n",
    "X_test = scaler.transform(X_test)\n",
    "\n",
    "# Define the model\n",
    "model = Sequential()\n",
    "model.add(Dense(16, input_dim=X_train.shape[1], activation='relu'))\n",
    "model.add(Dense(8, activation='relu'))\n",
    "model.add(Dense(4, activation='relu'))\n",
    "model.add(Dense(1, activation='sigmoid'))\n",
    "\n",
    "# Compile the model\n",
    "model.compile(loss='binary_crossentropy', optimizer='adam', metrics=['accuracy'])\n",
    "\n",
    "# Train the model\n",
    "model.fit(X_train, y_train, epochs=50, batch_size=16, validation_data=(X_test, y_test))\n",
    "\n",
    "# Evaluate the model on the test set\n",
    "loss, opt_nn_accuracy = model.evaluate(X_test, y_test)\n",
    "print(f'\\n\\nTest loss: {loss:.4f}\\nTest accuracy: {opt_nn_accuracy*100:.2f}%\\n\\n')"
   ]
  },
  {
   "cell_type": "code",
   "execution_count": null,
   "id": "ca8656b8",
   "metadata": {},
   "outputs": [],
   "source": [
    "# Predict on test set and calculate accuracy\n",
    "y_pred_proba = model.predict(X_test)\n",
    "y_pred_opt_nn = np.round(y_pred_proba).astype(int)\n",
    "\n",
    "# Evaluate the Model\n",
    "opt_nn_prec, opt_nn_accuracy, opt_nn_recall, opt_nn_f1 = evaluate_model(y_test, y_pred_opt_nn, \"Optimized Neural Network\")"
   ]
  },
  {
   "cell_type": "code",
   "execution_count": null,
   "id": "1b02067f",
   "metadata": {},
   "outputs": [],
   "source": [
    "# Scale the features\n",
    "scaler = StandardScaler()\n",
    "X_train = scaler.fit_transform(X_train)\n",
    "X_test = scaler.transform(X_test)\n",
    "\n",
    "# Define the model\n",
    "model = Sequential()\n",
    "model.add(Dense(16, input_dim=X_train.shape[1], activation='sigmoid'))\n",
    "model.add(Dense(8, activation='sigmoid'))\n",
    "model.add(Dense(6, activation='sigmoid'))\n",
    "model.add(Dense(1, activation='sigmoid'))\n",
    "\n",
    "# Compile the model\n",
    "model.compile(loss='binary_crossentropy', optimizer='adam', metrics=['accuracy'])\n",
    "\n",
    "# Train the model\n",
    "model.fit(X_train, y_train, epochs=50, batch_size=16, validation_data=(X_test, y_test))\n",
    "\n",
    "# Evaluate the model on the test set\n",
    "loss, opt2_nn_accuracy = model.evaluate(X_test, y_test)\n",
    "print(f'\\n\\nTest loss: {loss:.4f}\\nTest accuracy: {opt2_nn_accuracy*100:.2f}%\\n\\n')"
   ]
  },
  {
   "cell_type": "code",
   "execution_count": null,
   "id": "94ef15e3",
   "metadata": {},
   "outputs": [],
   "source": [
    "# Predict on test set and calculate accuracy\n",
    "y_pred_proba = model.predict(X_test)\n",
    "y_pred_opt2_nn = np.round(y_pred_proba).astype(int)\n",
    "\n",
    "# Evaluate the Model\n",
    "opt2_nn_prec, opt2_nn_accuracy, opt2_nn_recall, opt2_nn_f1 = evaluate_model(y_test, y_pred_opt2_nn, \"Optimized Neural Network\")"
   ]
  },
  {
   "cell_type": "markdown",
   "id": "7151c0fb",
   "metadata": {},
   "source": [
    "## Score Comparison "
   ]
  },
  {
   "cell_type": "code",
   "execution_count": null,
   "id": "d6b4b2cd",
   "metadata": {},
   "outputs": [],
   "source": [
    "# Create list of models and scores\n",
    "models_list = ['Rebalanced Logistic Regression', 'SVM', 'Optimized Neural Network']\n",
    "accuracy_list = [linreg_accuracy_balance, svm_accuracy, opt2_nn_accuracy]\n",
    "precision_list = [linreg_prec_balance, svm_prec, opt2_nn_prec]\n",
    "recall_list = [linreg_recall_balance, svm_recall, opt2_nn_recall]\n",
    "f1_list = [linreg_f1_balance, svm_f1, opt2_nn_f1]\n",
    "\n",
    "# Create score dataframe\n",
    "score_df = pd.DataFrame({\n",
    "    'Models': models_list,\n",
    "    'Accuracy': accuracy_list,\n",
    "    'Precision': precision_list,\n",
    "    'Recall': recall_list,\n",
    "    'F1-score': f1_list\n",
    "})\n",
    "\n",
    "# Modify numerical columns to be in % with 2 decimal points\n",
    "score_df[['Accuracy', 'Precision', 'Recall', 'F1-score']] = score_df[['Accuracy', 'Precision', 'Recall', 'F1-score']].apply(lambda x: round(x * 100, 2))\n",
    "\n",
    "score_df"
   ]
  },
  {
   "cell_type": "code",
   "execution_count": null,
   "id": "196a050b",
   "metadata": {},
   "outputs": [],
   "source": [
    "# Create a 2x2 plot to compare all the scores\n",
    "fig, axes = plt.subplots(2, 2, figsize=(12, 12))\n",
    "fig.suptitle('Model Performance Metrics Comparison')\n",
    "\n",
    "# Plot Accuracy\n",
    "accuracy_sorted = score_df.sort_values(by='Accuracy', ascending=False)\n",
    "sns.barplot(ax=axes[0, 0], x='Models', y='Accuracy', data=accuracy_sorted)\n",
    "axes[0, 0].set_title('Accuracy')\n",
    "axes[0, 0].set_xticklabels(axes[0, 0].get_xticklabels(), rotation=45, horizontalalignment='right')\n",
    "for i, v in enumerate(accuracy_sorted['Accuracy']):\n",
    "    axes[0, 0].text(i, v, f\"{v}%\", ha='center', va='bottom', fontsize=10)\n",
    "\n",
    "# Plot Precision\n",
    "precision_sorted = score_df.sort_values(by='Precision', ascending=False)\n",
    "sns.barplot(ax=axes[0, 1], x='Models', y='Precision', data=precision_sorted)\n",
    "axes[0, 1].set_title('Precision')\n",
    "axes[0, 1].set_xticklabels(axes[0, 1].get_xticklabels(), rotation=45, horizontalalignment='right')\n",
    "for i, v in enumerate(precision_sorted['Precision']):\n",
    "    axes[0, 1].text(i, v, f\"{v}%\", ha='center', va='bottom', fontsize=10)\n",
    "\n",
    "# Plot Recall\n",
    "recall_sorted = score_df.sort_values(by='Recall', ascending=False)\n",
    "sns.barplot(ax=axes[1, 0], x='Models', y='Recall', data=recall_sorted)\n",
    "axes[1, 0].set_title('Recall')\n",
    "axes[1, 0].set_xticklabels(axes[1, 0].get_xticklabels(), rotation=45, horizontalalignment='right')\n",
    "for i, v in enumerate(recall_sorted['Recall']):\n",
    "    axes[1, 0].text(i, v, f\"{v}%\", ha='center', va='bottom', fontsize=10)\n",
    "\n",
    "# Plot F1-score\n",
    "f1_sorted = score_df.sort_values(by='F1-score', ascending=False)\n",
    "sns.barplot(ax=axes[1, 1], x='Models', y='F1-score', data=f1_sorted)\n",
    "axes[1, 1].set_title('F1-score')\n",
    "axes[1, 1].set_xticklabels(axes[1, 1].get_xticklabels(), rotation=45, horizontalalignment='right')\n",
    "for i, v in enumerate(f1_sorted['F1-score']):\n",
    "    axes[1, 1].text(i, v, f\"{v}%\", ha='center', va='bottom', fontsize=10)\n",
    "\n",
    "plt.tight_layout()\n",
    "plt.show()"
   ]
  },
  {
   "cell_type": "code",
   "execution_count": null,
   "id": "dc3d47c8",
   "metadata": {},
   "outputs": [],
   "source": []
  },
  {
   "cell_type": "code",
   "execution_count": null,
   "id": "5a8d9ca0",
   "metadata": {},
   "outputs": [],
   "source": []
  },
  {
   "cell_type": "code",
   "execution_count": null,
   "id": "4c80631f",
   "metadata": {},
   "outputs": [],
   "source": []
  }
 ],
 "metadata": {
  "kernelspec": {
   "display_name": "Python 3 (ipykernel)",
   "language": "python",
   "name": "python3"
  },
  "language_info": {
   "codemirror_mode": {
    "name": "ipython",
    "version": 3
   },
   "file_extension": ".py",
   "mimetype": "text/x-python",
   "name": "python",
   "nbconvert_exporter": "python",
   "pygments_lexer": "ipython3",
   "version": "3.10.11"
  }
 },
 "nbformat": 4,
 "nbformat_minor": 5
}
